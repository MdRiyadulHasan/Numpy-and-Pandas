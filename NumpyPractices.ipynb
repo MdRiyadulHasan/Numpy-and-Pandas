{
  "nbformat": 4,
  "nbformat_minor": 0,
  "metadata": {
    "colab": {
      "provenance": [],
      "authorship_tag": "ABX9TyO/DtqWgngS7CziQvp8WkrH",
      "include_colab_link": true
    },
    "kernelspec": {
      "name": "python3",
      "display_name": "Python 3"
    },
    "language_info": {
      "name": "python"
    }
  },
  "cells": [
    {
      "cell_type": "markdown",
      "metadata": {
        "id": "view-in-github",
        "colab_type": "text"
      },
      "source": [
        "<a href=\"https://colab.research.google.com/github/MdRiyadulHasan/Numpy-and-Pandas/blob/main/NumpyPractices.ipynb\" target=\"_parent\"><img src=\"https://colab.research.google.com/assets/colab-badge.svg\" alt=\"Open In Colab\"/></a>"
      ]
    },
    {
      "cell_type": "code",
      "execution_count": 2,
      "metadata": {
        "colab": {
          "base_uri": "https://localhost:8080/"
        },
        "id": "_vMss32QcqQk",
        "outputId": "69e279e9-62cf-4367-f118-df9ddc730b0c"
      },
      "outputs": [
        {
          "output_type": "stream",
          "name": "stdout",
          "text": [
            "['Natural', 'Language', 'Processing', 'is', 'fascinating', '!']\n"
          ]
        },
        {
          "output_type": "stream",
          "name": "stderr",
          "text": [
            "[nltk_data] Downloading package punkt to /root/nltk_data...\n",
            "[nltk_data]   Package punkt is already up-to-date!\n"
          ]
        }
      ],
      "source": [
        "import nltk\n",
        "nltk.download('punkt')  # Download the necessary data\n",
        "\n",
        "from nltk.tokenize import word_tokenize\n",
        "\n",
        "text = \"Natural Language Processing is fascinating!\"\n",
        "tokens = word_tokenize(text)\n",
        "print(tokens)\n"
      ]
    },
    {
      "cell_type": "code",
      "source": [
        "import numpy as np\n",
        "\n",
        "# Create a NumPy array\n",
        "arr = np.array([1, 2, 3, 4, 5])\n",
        "\n",
        "# Perform element-wise operations\n",
        "squared_arr = arr**2\n",
        "sum_arr = np.sum(arr)\n",
        "sum_arr1 = np.sum(squared_arr)\n",
        "\n",
        "print(squared_arr)  # Output: [ 1  4  9 16 25]\n",
        "print(sum_arr)      # Output: 15\n",
        "print(sum_arr1)\n"
      ],
      "metadata": {
        "colab": {
          "base_uri": "https://localhost:8080/"
        },
        "id": "jTCreUrWgwuw",
        "outputId": "f90e4cd8-cdc0-4d01-abf2-630e2bacd7d6"
      },
      "execution_count": 4,
      "outputs": [
        {
          "output_type": "stream",
          "name": "stdout",
          "text": [
            "[ 1  4  9 16 25]\n",
            "15\n",
            "55\n"
          ]
        }
      ]
    }
  ]
}