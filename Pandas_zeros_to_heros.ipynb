{
  "nbformat": 4,
  "nbformat_minor": 0,
  "metadata": {
    "colab": {
      "provenance": [],
      "authorship_tag": "ABX9TyPSEVtcASHbflXujhAGO7IN",
      "include_colab_link": true
    },
    "kernelspec": {
      "name": "python3",
      "display_name": "Python 3"
    },
    "language_info": {
      "name": "python"
    }
  },
  "cells": [
    {
      "cell_type": "markdown",
      "metadata": {
        "id": "view-in-github",
        "colab_type": "text"
      },
      "source": [
        "<a href=\"https://colab.research.google.com/github/MdRiyadulHasan/Numpy-and-Pandas/blob/main/Pandas_zeros_to_heros.ipynb\" target=\"_parent\"><img src=\"https://colab.research.google.com/assets/colab-badge.svg\" alt=\"Open In Colab\"/></a>"
      ]
    },
    {
      "cell_type": "code",
      "execution_count": null,
      "metadata": {
        "colab": {
          "base_uri": "https://localhost:8080/"
        },
        "id": "4mOhRBC5v2yX",
        "outputId": "b5cbd73c-a4ef-4636-8336-3221b39f8a6d"
      },
      "outputs": [
        {
          "output_type": "stream",
          "name": "stdout",
          "text": [
            "      Name  Age           City\n",
            "0    Alice   25       New York\n",
            "1      Bob   30  San Francisco\n",
            "2  Charlie   35    Los Angeles\n",
            "3    David   40        Chicago\n",
            "4    Riyad   32       New York\n",
            "5    Hasan   35       New York\n",
            "6    Fahim   25    Los Angeles\n",
            "7    Kamal   30        Chicago\n",
            "8    Jamal   50  San Francisco\n"
          ]
        }
      ],
      "source": [
        "import pandas as pd\n",
        "\n",
        "data = {\n",
        "    'Name': ['Alice', 'Bob', 'Charlie', 'David','Riyad', 'Hasan', 'Fahim', 'Kamal', 'Jamal'],\n",
        "    'Age': [25, 30, 35, 40, 32, 35, 25, 30, 50],\n",
        "    'City': ['New York', 'San Francisco', 'Los Angeles', 'Chicago','New York', 'New York', 'Los Angeles','Chicago', 'San Francisco']\n",
        "}\n",
        "\n",
        "df = pd.DataFrame(data)\n",
        "print(df)\n"
      ]
    },
    {
      "cell_type": "code",
      "source": [
        "# Set the 'Name' column as the index\n",
        "df.set_index('Name')\n",
        "print(df)\n"
      ],
      "metadata": {
        "colab": {
          "base_uri": "https://localhost:8080/"
        },
        "id": "nNVPXYQxzk2D",
        "outputId": "68b8236d-1e3c-4c25-9720-c9140551fd51"
      },
      "execution_count": null,
      "outputs": [
        {
          "output_type": "stream",
          "name": "stdout",
          "text": [
            "      Name  Age           City\n",
            "0    Alice   25       New York\n",
            "1      Bob   30  San Francisco\n",
            "2  Charlie   35    Los Angeles\n",
            "3    David   40        Chicago\n",
            "4    Riyad   32       New York\n",
            "5    Hasan   35       New York\n",
            "6    Fahim   25    Los Angeles\n",
            "7    Kamal   30        Chicago\n",
            "8    Jamal   50  San Francisco\n"
          ]
        }
      ]
    },
    {
      "cell_type": "code",
      "source": [
        "df[['Name', 'Age']]"
      ],
      "metadata": {
        "colab": {
          "base_uri": "https://localhost:8080/",
          "height": 331
        },
        "id": "5mGxun-2zCvM",
        "outputId": "421b5a2e-a1a3-480f-d3fa-28eb3dd41b24"
      },
      "execution_count": null,
      "outputs": [
        {
          "output_type": "execute_result",
          "data": {
            "text/plain": [
              "      Name  Age\n",
              "0    Alice   25\n",
              "1      Bob   30\n",
              "2  Charlie   35\n",
              "3    David   40\n",
              "4    Riyad   32\n",
              "5    Hasan   35\n",
              "6    Fahim   25\n",
              "7    Kamal   30\n",
              "8    Jamal   50"
            ],
            "text/html": [
              "\n",
              "  <div id=\"df-7a884833-0aee-4ad7-b4e0-bb50459b6d17\" class=\"colab-df-container\">\n",
              "    <div>\n",
              "<style scoped>\n",
              "    .dataframe tbody tr th:only-of-type {\n",
              "        vertical-align: middle;\n",
              "    }\n",
              "\n",
              "    .dataframe tbody tr th {\n",
              "        vertical-align: top;\n",
              "    }\n",
              "\n",
              "    .dataframe thead th {\n",
              "        text-align: right;\n",
              "    }\n",
              "</style>\n",
              "<table border=\"1\" class=\"dataframe\">\n",
              "  <thead>\n",
              "    <tr style=\"text-align: right;\">\n",
              "      <th></th>\n",
              "      <th>Name</th>\n",
              "      <th>Age</th>\n",
              "    </tr>\n",
              "  </thead>\n",
              "  <tbody>\n",
              "    <tr>\n",
              "      <th>0</th>\n",
              "      <td>Alice</td>\n",
              "      <td>25</td>\n",
              "    </tr>\n",
              "    <tr>\n",
              "      <th>1</th>\n",
              "      <td>Bob</td>\n",
              "      <td>30</td>\n",
              "    </tr>\n",
              "    <tr>\n",
              "      <th>2</th>\n",
              "      <td>Charlie</td>\n",
              "      <td>35</td>\n",
              "    </tr>\n",
              "    <tr>\n",
              "      <th>3</th>\n",
              "      <td>David</td>\n",
              "      <td>40</td>\n",
              "    </tr>\n",
              "    <tr>\n",
              "      <th>4</th>\n",
              "      <td>Riyad</td>\n",
              "      <td>32</td>\n",
              "    </tr>\n",
              "    <tr>\n",
              "      <th>5</th>\n",
              "      <td>Hasan</td>\n",
              "      <td>35</td>\n",
              "    </tr>\n",
              "    <tr>\n",
              "      <th>6</th>\n",
              "      <td>Fahim</td>\n",
              "      <td>25</td>\n",
              "    </tr>\n",
              "    <tr>\n",
              "      <th>7</th>\n",
              "      <td>Kamal</td>\n",
              "      <td>30</td>\n",
              "    </tr>\n",
              "    <tr>\n",
              "      <th>8</th>\n",
              "      <td>Jamal</td>\n",
              "      <td>50</td>\n",
              "    </tr>\n",
              "  </tbody>\n",
              "</table>\n",
              "</div>\n",
              "    <div class=\"colab-df-buttons\">\n",
              "\n",
              "  <div class=\"colab-df-container\">\n",
              "    <button class=\"colab-df-convert\" onclick=\"convertToInteractive('df-7a884833-0aee-4ad7-b4e0-bb50459b6d17')\"\n",
              "            title=\"Convert this dataframe to an interactive table.\"\n",
              "            style=\"display:none;\">\n",
              "\n",
              "  <svg xmlns=\"http://www.w3.org/2000/svg\" height=\"24px\" viewBox=\"0 -960 960 960\">\n",
              "    <path d=\"M120-120v-720h720v720H120Zm60-500h600v-160H180v160Zm220 220h160v-160H400v160Zm0 220h160v-160H400v160ZM180-400h160v-160H180v160Zm440 0h160v-160H620v160ZM180-180h160v-160H180v160Zm440 0h160v-160H620v160Z\"/>\n",
              "  </svg>\n",
              "    </button>\n",
              "\n",
              "  <style>\n",
              "    .colab-df-container {\n",
              "      display:flex;\n",
              "      gap: 12px;\n",
              "    }\n",
              "\n",
              "    .colab-df-convert {\n",
              "      background-color: #E8F0FE;\n",
              "      border: none;\n",
              "      border-radius: 50%;\n",
              "      cursor: pointer;\n",
              "      display: none;\n",
              "      fill: #1967D2;\n",
              "      height: 32px;\n",
              "      padding: 0 0 0 0;\n",
              "      width: 32px;\n",
              "    }\n",
              "\n",
              "    .colab-df-convert:hover {\n",
              "      background-color: #E2EBFA;\n",
              "      box-shadow: 0px 1px 2px rgba(60, 64, 67, 0.3), 0px 1px 3px 1px rgba(60, 64, 67, 0.15);\n",
              "      fill: #174EA6;\n",
              "    }\n",
              "\n",
              "    .colab-df-buttons div {\n",
              "      margin-bottom: 4px;\n",
              "    }\n",
              "\n",
              "    [theme=dark] .colab-df-convert {\n",
              "      background-color: #3B4455;\n",
              "      fill: #D2E3FC;\n",
              "    }\n",
              "\n",
              "    [theme=dark] .colab-df-convert:hover {\n",
              "      background-color: #434B5C;\n",
              "      box-shadow: 0px 1px 3px 1px rgba(0, 0, 0, 0.15);\n",
              "      filter: drop-shadow(0px 1px 2px rgba(0, 0, 0, 0.3));\n",
              "      fill: #FFFFFF;\n",
              "    }\n",
              "  </style>\n",
              "\n",
              "    <script>\n",
              "      const buttonEl =\n",
              "        document.querySelector('#df-7a884833-0aee-4ad7-b4e0-bb50459b6d17 button.colab-df-convert');\n",
              "      buttonEl.style.display =\n",
              "        google.colab.kernel.accessAllowed ? 'block' : 'none';\n",
              "\n",
              "      async function convertToInteractive(key) {\n",
              "        const element = document.querySelector('#df-7a884833-0aee-4ad7-b4e0-bb50459b6d17');\n",
              "        const dataTable =\n",
              "          await google.colab.kernel.invokeFunction('convertToInteractive',\n",
              "                                                    [key], {});\n",
              "        if (!dataTable) return;\n",
              "\n",
              "        const docLinkHtml = 'Like what you see? Visit the ' +\n",
              "          '<a target=\"_blank\" href=https://colab.research.google.com/notebooks/data_table.ipynb>data table notebook</a>'\n",
              "          + ' to learn more about interactive tables.';\n",
              "        element.innerHTML = '';\n",
              "        dataTable['output_type'] = 'display_data';\n",
              "        await google.colab.output.renderOutput(dataTable, element);\n",
              "        const docLink = document.createElement('div');\n",
              "        docLink.innerHTML = docLinkHtml;\n",
              "        element.appendChild(docLink);\n",
              "      }\n",
              "    </script>\n",
              "  </div>\n",
              "\n",
              "\n",
              "<div id=\"df-49a018fa-9cb8-4491-8532-5a84eeae8f4f\">\n",
              "  <button class=\"colab-df-quickchart\" onclick=\"quickchart('df-49a018fa-9cb8-4491-8532-5a84eeae8f4f')\"\n",
              "            title=\"Suggest charts.\"\n",
              "            style=\"display:none;\">\n",
              "\n",
              "<svg xmlns=\"http://www.w3.org/2000/svg\" height=\"24px\"viewBox=\"0 0 24 24\"\n",
              "     width=\"24px\">\n",
              "    <g>\n",
              "        <path d=\"M19 3H5c-1.1 0-2 .9-2 2v14c0 1.1.9 2 2 2h14c1.1 0 2-.9 2-2V5c0-1.1-.9-2-2-2zM9 17H7v-7h2v7zm4 0h-2V7h2v10zm4 0h-2v-4h2v4z\"/>\n",
              "    </g>\n",
              "</svg>\n",
              "  </button>\n",
              "\n",
              "<style>\n",
              "  .colab-df-quickchart {\n",
              "      --bg-color: #E8F0FE;\n",
              "      --fill-color: #1967D2;\n",
              "      --hover-bg-color: #E2EBFA;\n",
              "      --hover-fill-color: #174EA6;\n",
              "      --disabled-fill-color: #AAA;\n",
              "      --disabled-bg-color: #DDD;\n",
              "  }\n",
              "\n",
              "  [theme=dark] .colab-df-quickchart {\n",
              "      --bg-color: #3B4455;\n",
              "      --fill-color: #D2E3FC;\n",
              "      --hover-bg-color: #434B5C;\n",
              "      --hover-fill-color: #FFFFFF;\n",
              "      --disabled-bg-color: #3B4455;\n",
              "      --disabled-fill-color: #666;\n",
              "  }\n",
              "\n",
              "  .colab-df-quickchart {\n",
              "    background-color: var(--bg-color);\n",
              "    border: none;\n",
              "    border-radius: 50%;\n",
              "    cursor: pointer;\n",
              "    display: none;\n",
              "    fill: var(--fill-color);\n",
              "    height: 32px;\n",
              "    padding: 0;\n",
              "    width: 32px;\n",
              "  }\n",
              "\n",
              "  .colab-df-quickchart:hover {\n",
              "    background-color: var(--hover-bg-color);\n",
              "    box-shadow: 0 1px 2px rgba(60, 64, 67, 0.3), 0 1px 3px 1px rgba(60, 64, 67, 0.15);\n",
              "    fill: var(--button-hover-fill-color);\n",
              "  }\n",
              "\n",
              "  .colab-df-quickchart-complete:disabled,\n",
              "  .colab-df-quickchart-complete:disabled:hover {\n",
              "    background-color: var(--disabled-bg-color);\n",
              "    fill: var(--disabled-fill-color);\n",
              "    box-shadow: none;\n",
              "  }\n",
              "\n",
              "  .colab-df-spinner {\n",
              "    border: 2px solid var(--fill-color);\n",
              "    border-color: transparent;\n",
              "    border-bottom-color: var(--fill-color);\n",
              "    animation:\n",
              "      spin 1s steps(1) infinite;\n",
              "  }\n",
              "\n",
              "  @keyframes spin {\n",
              "    0% {\n",
              "      border-color: transparent;\n",
              "      border-bottom-color: var(--fill-color);\n",
              "      border-left-color: var(--fill-color);\n",
              "    }\n",
              "    20% {\n",
              "      border-color: transparent;\n",
              "      border-left-color: var(--fill-color);\n",
              "      border-top-color: var(--fill-color);\n",
              "    }\n",
              "    30% {\n",
              "      border-color: transparent;\n",
              "      border-left-color: var(--fill-color);\n",
              "      border-top-color: var(--fill-color);\n",
              "      border-right-color: var(--fill-color);\n",
              "    }\n",
              "    40% {\n",
              "      border-color: transparent;\n",
              "      border-right-color: var(--fill-color);\n",
              "      border-top-color: var(--fill-color);\n",
              "    }\n",
              "    60% {\n",
              "      border-color: transparent;\n",
              "      border-right-color: var(--fill-color);\n",
              "    }\n",
              "    80% {\n",
              "      border-color: transparent;\n",
              "      border-right-color: var(--fill-color);\n",
              "      border-bottom-color: var(--fill-color);\n",
              "    }\n",
              "    90% {\n",
              "      border-color: transparent;\n",
              "      border-bottom-color: var(--fill-color);\n",
              "    }\n",
              "  }\n",
              "</style>\n",
              "\n",
              "  <script>\n",
              "    async function quickchart(key) {\n",
              "      const quickchartButtonEl =\n",
              "        document.querySelector('#' + key + ' button');\n",
              "      quickchartButtonEl.disabled = true;  // To prevent multiple clicks.\n",
              "      quickchartButtonEl.classList.add('colab-df-spinner');\n",
              "      try {\n",
              "        const charts = await google.colab.kernel.invokeFunction(\n",
              "            'suggestCharts', [key], {});\n",
              "      } catch (error) {\n",
              "        console.error('Error during call to suggestCharts:', error);\n",
              "      }\n",
              "      quickchartButtonEl.classList.remove('colab-df-spinner');\n",
              "      quickchartButtonEl.classList.add('colab-df-quickchart-complete');\n",
              "    }\n",
              "    (() => {\n",
              "      let quickchartButtonEl =\n",
              "        document.querySelector('#df-49a018fa-9cb8-4491-8532-5a84eeae8f4f button');\n",
              "      quickchartButtonEl.style.display =\n",
              "        google.colab.kernel.accessAllowed ? 'block' : 'none';\n",
              "    })();\n",
              "  </script>\n",
              "</div>\n",
              "    </div>\n",
              "  </div>\n"
            ]
          },
          "metadata": {},
          "execution_count": 44
        }
      ]
    },
    {
      "cell_type": "code",
      "source": [
        "# Select rows where Age is greater than 28\n",
        "df[df['Age'] > 28]\n"
      ],
      "metadata": {
        "colab": {
          "base_uri": "https://localhost:8080/",
          "height": 269
        },
        "id": "DGo9euaSzP9p",
        "outputId": "cc816780-af4e-4b59-9312-7cea45062f00"
      },
      "execution_count": null,
      "outputs": [
        {
          "output_type": "execute_result",
          "data": {
            "text/plain": [
              "      Name  Age           City\n",
              "1      Bob   30  San Francisco\n",
              "2  Charlie   35    Los Angeles\n",
              "3    David   40        Chicago\n",
              "4    Riyad   32       New York\n",
              "5    Hasan   35       New York\n",
              "7    Kamal   30        Chicago\n",
              "8    Jamal   50  San Francisco"
            ],
            "text/html": [
              "\n",
              "  <div id=\"df-a73095b3-43f5-4c18-8b1c-e4159daa9622\" class=\"colab-df-container\">\n",
              "    <div>\n",
              "<style scoped>\n",
              "    .dataframe tbody tr th:only-of-type {\n",
              "        vertical-align: middle;\n",
              "    }\n",
              "\n",
              "    .dataframe tbody tr th {\n",
              "        vertical-align: top;\n",
              "    }\n",
              "\n",
              "    .dataframe thead th {\n",
              "        text-align: right;\n",
              "    }\n",
              "</style>\n",
              "<table border=\"1\" class=\"dataframe\">\n",
              "  <thead>\n",
              "    <tr style=\"text-align: right;\">\n",
              "      <th></th>\n",
              "      <th>Name</th>\n",
              "      <th>Age</th>\n",
              "      <th>City</th>\n",
              "    </tr>\n",
              "  </thead>\n",
              "  <tbody>\n",
              "    <tr>\n",
              "      <th>1</th>\n",
              "      <td>Bob</td>\n",
              "      <td>30</td>\n",
              "      <td>San Francisco</td>\n",
              "    </tr>\n",
              "    <tr>\n",
              "      <th>2</th>\n",
              "      <td>Charlie</td>\n",
              "      <td>35</td>\n",
              "      <td>Los Angeles</td>\n",
              "    </tr>\n",
              "    <tr>\n",
              "      <th>3</th>\n",
              "      <td>David</td>\n",
              "      <td>40</td>\n",
              "      <td>Chicago</td>\n",
              "    </tr>\n",
              "    <tr>\n",
              "      <th>4</th>\n",
              "      <td>Riyad</td>\n",
              "      <td>32</td>\n",
              "      <td>New York</td>\n",
              "    </tr>\n",
              "    <tr>\n",
              "      <th>5</th>\n",
              "      <td>Hasan</td>\n",
              "      <td>35</td>\n",
              "      <td>New York</td>\n",
              "    </tr>\n",
              "    <tr>\n",
              "      <th>7</th>\n",
              "      <td>Kamal</td>\n",
              "      <td>30</td>\n",
              "      <td>Chicago</td>\n",
              "    </tr>\n",
              "    <tr>\n",
              "      <th>8</th>\n",
              "      <td>Jamal</td>\n",
              "      <td>50</td>\n",
              "      <td>San Francisco</td>\n",
              "    </tr>\n",
              "  </tbody>\n",
              "</table>\n",
              "</div>\n",
              "    <div class=\"colab-df-buttons\">\n",
              "\n",
              "  <div class=\"colab-df-container\">\n",
              "    <button class=\"colab-df-convert\" onclick=\"convertToInteractive('df-a73095b3-43f5-4c18-8b1c-e4159daa9622')\"\n",
              "            title=\"Convert this dataframe to an interactive table.\"\n",
              "            style=\"display:none;\">\n",
              "\n",
              "  <svg xmlns=\"http://www.w3.org/2000/svg\" height=\"24px\" viewBox=\"0 -960 960 960\">\n",
              "    <path d=\"M120-120v-720h720v720H120Zm60-500h600v-160H180v160Zm220 220h160v-160H400v160Zm0 220h160v-160H400v160ZM180-400h160v-160H180v160Zm440 0h160v-160H620v160ZM180-180h160v-160H180v160Zm440 0h160v-160H620v160Z\"/>\n",
              "  </svg>\n",
              "    </button>\n",
              "\n",
              "  <style>\n",
              "    .colab-df-container {\n",
              "      display:flex;\n",
              "      gap: 12px;\n",
              "    }\n",
              "\n",
              "    .colab-df-convert {\n",
              "      background-color: #E8F0FE;\n",
              "      border: none;\n",
              "      border-radius: 50%;\n",
              "      cursor: pointer;\n",
              "      display: none;\n",
              "      fill: #1967D2;\n",
              "      height: 32px;\n",
              "      padding: 0 0 0 0;\n",
              "      width: 32px;\n",
              "    }\n",
              "\n",
              "    .colab-df-convert:hover {\n",
              "      background-color: #E2EBFA;\n",
              "      box-shadow: 0px 1px 2px rgba(60, 64, 67, 0.3), 0px 1px 3px 1px rgba(60, 64, 67, 0.15);\n",
              "      fill: #174EA6;\n",
              "    }\n",
              "\n",
              "    .colab-df-buttons div {\n",
              "      margin-bottom: 4px;\n",
              "    }\n",
              "\n",
              "    [theme=dark] .colab-df-convert {\n",
              "      background-color: #3B4455;\n",
              "      fill: #D2E3FC;\n",
              "    }\n",
              "\n",
              "    [theme=dark] .colab-df-convert:hover {\n",
              "      background-color: #434B5C;\n",
              "      box-shadow: 0px 1px 3px 1px rgba(0, 0, 0, 0.15);\n",
              "      filter: drop-shadow(0px 1px 2px rgba(0, 0, 0, 0.3));\n",
              "      fill: #FFFFFF;\n",
              "    }\n",
              "  </style>\n",
              "\n",
              "    <script>\n",
              "      const buttonEl =\n",
              "        document.querySelector('#df-a73095b3-43f5-4c18-8b1c-e4159daa9622 button.colab-df-convert');\n",
              "      buttonEl.style.display =\n",
              "        google.colab.kernel.accessAllowed ? 'block' : 'none';\n",
              "\n",
              "      async function convertToInteractive(key) {\n",
              "        const element = document.querySelector('#df-a73095b3-43f5-4c18-8b1c-e4159daa9622');\n",
              "        const dataTable =\n",
              "          await google.colab.kernel.invokeFunction('convertToInteractive',\n",
              "                                                    [key], {});\n",
              "        if (!dataTable) return;\n",
              "\n",
              "        const docLinkHtml = 'Like what you see? Visit the ' +\n",
              "          '<a target=\"_blank\" href=https://colab.research.google.com/notebooks/data_table.ipynb>data table notebook</a>'\n",
              "          + ' to learn more about interactive tables.';\n",
              "        element.innerHTML = '';\n",
              "        dataTable['output_type'] = 'display_data';\n",
              "        await google.colab.output.renderOutput(dataTable, element);\n",
              "        const docLink = document.createElement('div');\n",
              "        docLink.innerHTML = docLinkHtml;\n",
              "        element.appendChild(docLink);\n",
              "      }\n",
              "    </script>\n",
              "  </div>\n",
              "\n",
              "\n",
              "<div id=\"df-15f2a3d7-afd9-4640-a29c-4e183ece474c\">\n",
              "  <button class=\"colab-df-quickchart\" onclick=\"quickchart('df-15f2a3d7-afd9-4640-a29c-4e183ece474c')\"\n",
              "            title=\"Suggest charts.\"\n",
              "            style=\"display:none;\">\n",
              "\n",
              "<svg xmlns=\"http://www.w3.org/2000/svg\" height=\"24px\"viewBox=\"0 0 24 24\"\n",
              "     width=\"24px\">\n",
              "    <g>\n",
              "        <path d=\"M19 3H5c-1.1 0-2 .9-2 2v14c0 1.1.9 2 2 2h14c1.1 0 2-.9 2-2V5c0-1.1-.9-2-2-2zM9 17H7v-7h2v7zm4 0h-2V7h2v10zm4 0h-2v-4h2v4z\"/>\n",
              "    </g>\n",
              "</svg>\n",
              "  </button>\n",
              "\n",
              "<style>\n",
              "  .colab-df-quickchart {\n",
              "      --bg-color: #E8F0FE;\n",
              "      --fill-color: #1967D2;\n",
              "      --hover-bg-color: #E2EBFA;\n",
              "      --hover-fill-color: #174EA6;\n",
              "      --disabled-fill-color: #AAA;\n",
              "      --disabled-bg-color: #DDD;\n",
              "  }\n",
              "\n",
              "  [theme=dark] .colab-df-quickchart {\n",
              "      --bg-color: #3B4455;\n",
              "      --fill-color: #D2E3FC;\n",
              "      --hover-bg-color: #434B5C;\n",
              "      --hover-fill-color: #FFFFFF;\n",
              "      --disabled-bg-color: #3B4455;\n",
              "      --disabled-fill-color: #666;\n",
              "  }\n",
              "\n",
              "  .colab-df-quickchart {\n",
              "    background-color: var(--bg-color);\n",
              "    border: none;\n",
              "    border-radius: 50%;\n",
              "    cursor: pointer;\n",
              "    display: none;\n",
              "    fill: var(--fill-color);\n",
              "    height: 32px;\n",
              "    padding: 0;\n",
              "    width: 32px;\n",
              "  }\n",
              "\n",
              "  .colab-df-quickchart:hover {\n",
              "    background-color: var(--hover-bg-color);\n",
              "    box-shadow: 0 1px 2px rgba(60, 64, 67, 0.3), 0 1px 3px 1px rgba(60, 64, 67, 0.15);\n",
              "    fill: var(--button-hover-fill-color);\n",
              "  }\n",
              "\n",
              "  .colab-df-quickchart-complete:disabled,\n",
              "  .colab-df-quickchart-complete:disabled:hover {\n",
              "    background-color: var(--disabled-bg-color);\n",
              "    fill: var(--disabled-fill-color);\n",
              "    box-shadow: none;\n",
              "  }\n",
              "\n",
              "  .colab-df-spinner {\n",
              "    border: 2px solid var(--fill-color);\n",
              "    border-color: transparent;\n",
              "    border-bottom-color: var(--fill-color);\n",
              "    animation:\n",
              "      spin 1s steps(1) infinite;\n",
              "  }\n",
              "\n",
              "  @keyframes spin {\n",
              "    0% {\n",
              "      border-color: transparent;\n",
              "      border-bottom-color: var(--fill-color);\n",
              "      border-left-color: var(--fill-color);\n",
              "    }\n",
              "    20% {\n",
              "      border-color: transparent;\n",
              "      border-left-color: var(--fill-color);\n",
              "      border-top-color: var(--fill-color);\n",
              "    }\n",
              "    30% {\n",
              "      border-color: transparent;\n",
              "      border-left-color: var(--fill-color);\n",
              "      border-top-color: var(--fill-color);\n",
              "      border-right-color: var(--fill-color);\n",
              "    }\n",
              "    40% {\n",
              "      border-color: transparent;\n",
              "      border-right-color: var(--fill-color);\n",
              "      border-top-color: var(--fill-color);\n",
              "    }\n",
              "    60% {\n",
              "      border-color: transparent;\n",
              "      border-right-color: var(--fill-color);\n",
              "    }\n",
              "    80% {\n",
              "      border-color: transparent;\n",
              "      border-right-color: var(--fill-color);\n",
              "      border-bottom-color: var(--fill-color);\n",
              "    }\n",
              "    90% {\n",
              "      border-color: transparent;\n",
              "      border-bottom-color: var(--fill-color);\n",
              "    }\n",
              "  }\n",
              "</style>\n",
              "\n",
              "  <script>\n",
              "    async function quickchart(key) {\n",
              "      const quickchartButtonEl =\n",
              "        document.querySelector('#' + key + ' button');\n",
              "      quickchartButtonEl.disabled = true;  // To prevent multiple clicks.\n",
              "      quickchartButtonEl.classList.add('colab-df-spinner');\n",
              "      try {\n",
              "        const charts = await google.colab.kernel.invokeFunction(\n",
              "            'suggestCharts', [key], {});\n",
              "      } catch (error) {\n",
              "        console.error('Error during call to suggestCharts:', error);\n",
              "      }\n",
              "      quickchartButtonEl.classList.remove('colab-df-spinner');\n",
              "      quickchartButtonEl.classList.add('colab-df-quickchart-complete');\n",
              "    }\n",
              "    (() => {\n",
              "      let quickchartButtonEl =\n",
              "        document.querySelector('#df-15f2a3d7-afd9-4640-a29c-4e183ece474c button');\n",
              "      quickchartButtonEl.style.display =\n",
              "        google.colab.kernel.accessAllowed ? 'block' : 'none';\n",
              "    })();\n",
              "  </script>\n",
              "</div>\n",
              "    </div>\n",
              "  </div>\n"
            ]
          },
          "metadata": {},
          "execution_count": 45
        }
      ]
    },
    {
      "cell_type": "code",
      "source": [
        "names = df['Name']\n",
        "print(names)\n"
      ],
      "metadata": {
        "colab": {
          "base_uri": "https://localhost:8080/"
        },
        "id": "a-vyQThmv_Bx",
        "outputId": "0d013a5c-2091-4994-f4d7-54a8cbfa9b96"
      },
      "execution_count": null,
      "outputs": [
        {
          "output_type": "stream",
          "name": "stdout",
          "text": [
            "0      Alice\n",
            "1        Bob\n",
            "2    Charlie\n",
            "3      David\n",
            "4      Riyad\n",
            "5      Hasan\n",
            "6      Fahim\n",
            "7      Kamal\n",
            "8      Jamal\n",
            "Name: Name, dtype: object\n"
          ]
        }
      ]
    },
    {
      "cell_type": "code",
      "source": [
        "# Sort the DataFrame by 'Age' in ascending order\n",
        "df.sort_values(by='Age', ascending=True)\n"
      ],
      "metadata": {
        "colab": {
          "base_uri": "https://localhost:8080/",
          "height": 331
        },
        "id": "OB9tEvbB0E4y",
        "outputId": "8cd5aaa7-8e27-4704-fea0-f29805ebf06c"
      },
      "execution_count": null,
      "outputs": [
        {
          "output_type": "execute_result",
          "data": {
            "text/plain": [
              "      Name  Age           City\n",
              "0    Alice   25       New York\n",
              "6    Fahim   25    Los Angeles\n",
              "1      Bob   30  San Francisco\n",
              "7    Kamal   30        Chicago\n",
              "4    Riyad   32       New York\n",
              "2  Charlie   35    Los Angeles\n",
              "5    Hasan   35       New York\n",
              "3    David   40        Chicago\n",
              "8    Jamal   50  San Francisco"
            ],
            "text/html": [
              "\n",
              "  <div id=\"df-11950b75-cc95-4ceb-83ed-b8ed67eae3e7\" class=\"colab-df-container\">\n",
              "    <div>\n",
              "<style scoped>\n",
              "    .dataframe tbody tr th:only-of-type {\n",
              "        vertical-align: middle;\n",
              "    }\n",
              "\n",
              "    .dataframe tbody tr th {\n",
              "        vertical-align: top;\n",
              "    }\n",
              "\n",
              "    .dataframe thead th {\n",
              "        text-align: right;\n",
              "    }\n",
              "</style>\n",
              "<table border=\"1\" class=\"dataframe\">\n",
              "  <thead>\n",
              "    <tr style=\"text-align: right;\">\n",
              "      <th></th>\n",
              "      <th>Name</th>\n",
              "      <th>Age</th>\n",
              "      <th>City</th>\n",
              "    </tr>\n",
              "  </thead>\n",
              "  <tbody>\n",
              "    <tr>\n",
              "      <th>0</th>\n",
              "      <td>Alice</td>\n",
              "      <td>25</td>\n",
              "      <td>New York</td>\n",
              "    </tr>\n",
              "    <tr>\n",
              "      <th>6</th>\n",
              "      <td>Fahim</td>\n",
              "      <td>25</td>\n",
              "      <td>Los Angeles</td>\n",
              "    </tr>\n",
              "    <tr>\n",
              "      <th>1</th>\n",
              "      <td>Bob</td>\n",
              "      <td>30</td>\n",
              "      <td>San Francisco</td>\n",
              "    </tr>\n",
              "    <tr>\n",
              "      <th>7</th>\n",
              "      <td>Kamal</td>\n",
              "      <td>30</td>\n",
              "      <td>Chicago</td>\n",
              "    </tr>\n",
              "    <tr>\n",
              "      <th>4</th>\n",
              "      <td>Riyad</td>\n",
              "      <td>32</td>\n",
              "      <td>New York</td>\n",
              "    </tr>\n",
              "    <tr>\n",
              "      <th>2</th>\n",
              "      <td>Charlie</td>\n",
              "      <td>35</td>\n",
              "      <td>Los Angeles</td>\n",
              "    </tr>\n",
              "    <tr>\n",
              "      <th>5</th>\n",
              "      <td>Hasan</td>\n",
              "      <td>35</td>\n",
              "      <td>New York</td>\n",
              "    </tr>\n",
              "    <tr>\n",
              "      <th>3</th>\n",
              "      <td>David</td>\n",
              "      <td>40</td>\n",
              "      <td>Chicago</td>\n",
              "    </tr>\n",
              "    <tr>\n",
              "      <th>8</th>\n",
              "      <td>Jamal</td>\n",
              "      <td>50</td>\n",
              "      <td>San Francisco</td>\n",
              "    </tr>\n",
              "  </tbody>\n",
              "</table>\n",
              "</div>\n",
              "    <div class=\"colab-df-buttons\">\n",
              "\n",
              "  <div class=\"colab-df-container\">\n",
              "    <button class=\"colab-df-convert\" onclick=\"convertToInteractive('df-11950b75-cc95-4ceb-83ed-b8ed67eae3e7')\"\n",
              "            title=\"Convert this dataframe to an interactive table.\"\n",
              "            style=\"display:none;\">\n",
              "\n",
              "  <svg xmlns=\"http://www.w3.org/2000/svg\" height=\"24px\" viewBox=\"0 -960 960 960\">\n",
              "    <path d=\"M120-120v-720h720v720H120Zm60-500h600v-160H180v160Zm220 220h160v-160H400v160Zm0 220h160v-160H400v160ZM180-400h160v-160H180v160Zm440 0h160v-160H620v160ZM180-180h160v-160H180v160Zm440 0h160v-160H620v160Z\"/>\n",
              "  </svg>\n",
              "    </button>\n",
              "\n",
              "  <style>\n",
              "    .colab-df-container {\n",
              "      display:flex;\n",
              "      gap: 12px;\n",
              "    }\n",
              "\n",
              "    .colab-df-convert {\n",
              "      background-color: #E8F0FE;\n",
              "      border: none;\n",
              "      border-radius: 50%;\n",
              "      cursor: pointer;\n",
              "      display: none;\n",
              "      fill: #1967D2;\n",
              "      height: 32px;\n",
              "      padding: 0 0 0 0;\n",
              "      width: 32px;\n",
              "    }\n",
              "\n",
              "    .colab-df-convert:hover {\n",
              "      background-color: #E2EBFA;\n",
              "      box-shadow: 0px 1px 2px rgba(60, 64, 67, 0.3), 0px 1px 3px 1px rgba(60, 64, 67, 0.15);\n",
              "      fill: #174EA6;\n",
              "    }\n",
              "\n",
              "    .colab-df-buttons div {\n",
              "      margin-bottom: 4px;\n",
              "    }\n",
              "\n",
              "    [theme=dark] .colab-df-convert {\n",
              "      background-color: #3B4455;\n",
              "      fill: #D2E3FC;\n",
              "    }\n",
              "\n",
              "    [theme=dark] .colab-df-convert:hover {\n",
              "      background-color: #434B5C;\n",
              "      box-shadow: 0px 1px 3px 1px rgba(0, 0, 0, 0.15);\n",
              "      filter: drop-shadow(0px 1px 2px rgba(0, 0, 0, 0.3));\n",
              "      fill: #FFFFFF;\n",
              "    }\n",
              "  </style>\n",
              "\n",
              "    <script>\n",
              "      const buttonEl =\n",
              "        document.querySelector('#df-11950b75-cc95-4ceb-83ed-b8ed67eae3e7 button.colab-df-convert');\n",
              "      buttonEl.style.display =\n",
              "        google.colab.kernel.accessAllowed ? 'block' : 'none';\n",
              "\n",
              "      async function convertToInteractive(key) {\n",
              "        const element = document.querySelector('#df-11950b75-cc95-4ceb-83ed-b8ed67eae3e7');\n",
              "        const dataTable =\n",
              "          await google.colab.kernel.invokeFunction('convertToInteractive',\n",
              "                                                    [key], {});\n",
              "        if (!dataTable) return;\n",
              "\n",
              "        const docLinkHtml = 'Like what you see? Visit the ' +\n",
              "          '<a target=\"_blank\" href=https://colab.research.google.com/notebooks/data_table.ipynb>data table notebook</a>'\n",
              "          + ' to learn more about interactive tables.';\n",
              "        element.innerHTML = '';\n",
              "        dataTable['output_type'] = 'display_data';\n",
              "        await google.colab.output.renderOutput(dataTable, element);\n",
              "        const docLink = document.createElement('div');\n",
              "        docLink.innerHTML = docLinkHtml;\n",
              "        element.appendChild(docLink);\n",
              "      }\n",
              "    </script>\n",
              "  </div>\n",
              "\n",
              "\n",
              "<div id=\"df-8c944050-d2e3-4ffb-8bfe-6526de52cd5a\">\n",
              "  <button class=\"colab-df-quickchart\" onclick=\"quickchart('df-8c944050-d2e3-4ffb-8bfe-6526de52cd5a')\"\n",
              "            title=\"Suggest charts.\"\n",
              "            style=\"display:none;\">\n",
              "\n",
              "<svg xmlns=\"http://www.w3.org/2000/svg\" height=\"24px\"viewBox=\"0 0 24 24\"\n",
              "     width=\"24px\">\n",
              "    <g>\n",
              "        <path d=\"M19 3H5c-1.1 0-2 .9-2 2v14c0 1.1.9 2 2 2h14c1.1 0 2-.9 2-2V5c0-1.1-.9-2-2-2zM9 17H7v-7h2v7zm4 0h-2V7h2v10zm4 0h-2v-4h2v4z\"/>\n",
              "    </g>\n",
              "</svg>\n",
              "  </button>\n",
              "\n",
              "<style>\n",
              "  .colab-df-quickchart {\n",
              "      --bg-color: #E8F0FE;\n",
              "      --fill-color: #1967D2;\n",
              "      --hover-bg-color: #E2EBFA;\n",
              "      --hover-fill-color: #174EA6;\n",
              "      --disabled-fill-color: #AAA;\n",
              "      --disabled-bg-color: #DDD;\n",
              "  }\n",
              "\n",
              "  [theme=dark] .colab-df-quickchart {\n",
              "      --bg-color: #3B4455;\n",
              "      --fill-color: #D2E3FC;\n",
              "      --hover-bg-color: #434B5C;\n",
              "      --hover-fill-color: #FFFFFF;\n",
              "      --disabled-bg-color: #3B4455;\n",
              "      --disabled-fill-color: #666;\n",
              "  }\n",
              "\n",
              "  .colab-df-quickchart {\n",
              "    background-color: var(--bg-color);\n",
              "    border: none;\n",
              "    border-radius: 50%;\n",
              "    cursor: pointer;\n",
              "    display: none;\n",
              "    fill: var(--fill-color);\n",
              "    height: 32px;\n",
              "    padding: 0;\n",
              "    width: 32px;\n",
              "  }\n",
              "\n",
              "  .colab-df-quickchart:hover {\n",
              "    background-color: var(--hover-bg-color);\n",
              "    box-shadow: 0 1px 2px rgba(60, 64, 67, 0.3), 0 1px 3px 1px rgba(60, 64, 67, 0.15);\n",
              "    fill: var(--button-hover-fill-color);\n",
              "  }\n",
              "\n",
              "  .colab-df-quickchart-complete:disabled,\n",
              "  .colab-df-quickchart-complete:disabled:hover {\n",
              "    background-color: var(--disabled-bg-color);\n",
              "    fill: var(--disabled-fill-color);\n",
              "    box-shadow: none;\n",
              "  }\n",
              "\n",
              "  .colab-df-spinner {\n",
              "    border: 2px solid var(--fill-color);\n",
              "    border-color: transparent;\n",
              "    border-bottom-color: var(--fill-color);\n",
              "    animation:\n",
              "      spin 1s steps(1) infinite;\n",
              "  }\n",
              "\n",
              "  @keyframes spin {\n",
              "    0% {\n",
              "      border-color: transparent;\n",
              "      border-bottom-color: var(--fill-color);\n",
              "      border-left-color: var(--fill-color);\n",
              "    }\n",
              "    20% {\n",
              "      border-color: transparent;\n",
              "      border-left-color: var(--fill-color);\n",
              "      border-top-color: var(--fill-color);\n",
              "    }\n",
              "    30% {\n",
              "      border-color: transparent;\n",
              "      border-left-color: var(--fill-color);\n",
              "      border-top-color: var(--fill-color);\n",
              "      border-right-color: var(--fill-color);\n",
              "    }\n",
              "    40% {\n",
              "      border-color: transparent;\n",
              "      border-right-color: var(--fill-color);\n",
              "      border-top-color: var(--fill-color);\n",
              "    }\n",
              "    60% {\n",
              "      border-color: transparent;\n",
              "      border-right-color: var(--fill-color);\n",
              "    }\n",
              "    80% {\n",
              "      border-color: transparent;\n",
              "      border-right-color: var(--fill-color);\n",
              "      border-bottom-color: var(--fill-color);\n",
              "    }\n",
              "    90% {\n",
              "      border-color: transparent;\n",
              "      border-bottom-color: var(--fill-color);\n",
              "    }\n",
              "  }\n",
              "</style>\n",
              "\n",
              "  <script>\n",
              "    async function quickchart(key) {\n",
              "      const quickchartButtonEl =\n",
              "        document.querySelector('#' + key + ' button');\n",
              "      quickchartButtonEl.disabled = true;  // To prevent multiple clicks.\n",
              "      quickchartButtonEl.classList.add('colab-df-spinner');\n",
              "      try {\n",
              "        const charts = await google.colab.kernel.invokeFunction(\n",
              "            'suggestCharts', [key], {});\n",
              "      } catch (error) {\n",
              "        console.error('Error during call to suggestCharts:', error);\n",
              "      }\n",
              "      quickchartButtonEl.classList.remove('colab-df-spinner');\n",
              "      quickchartButtonEl.classList.add('colab-df-quickchart-complete');\n",
              "    }\n",
              "    (() => {\n",
              "      let quickchartButtonEl =\n",
              "        document.querySelector('#df-8c944050-d2e3-4ffb-8bfe-6526de52cd5a button');\n",
              "      quickchartButtonEl.style.display =\n",
              "        google.colab.kernel.accessAllowed ? 'block' : 'none';\n",
              "    })();\n",
              "  </script>\n",
              "</div>\n",
              "    </div>\n",
              "  </div>\n"
            ]
          },
          "metadata": {},
          "execution_count": 47
        }
      ]
    },
    {
      "cell_type": "code",
      "source": [
        "# Group the DataFrame by 'City' and calculate the average age in each city\n",
        "df.groupby('City')['Age'].mean()\n"
      ],
      "metadata": {
        "colab": {
          "base_uri": "https://localhost:8080/"
        },
        "id": "h1afScAt0P6y",
        "outputId": "ad321006-d18a-4a8d-dbd5-a5da21cd3d4e"
      },
      "execution_count": null,
      "outputs": [
        {
          "output_type": "execute_result",
          "data": {
            "text/plain": [
              "City\n",
              "Chicago          35.000000\n",
              "Los Angeles      30.000000\n",
              "New York         30.666667\n",
              "San Francisco    40.000000\n",
              "Name: Age, dtype: float64"
            ]
          },
          "metadata": {},
          "execution_count": 48
        }
      ]
    },
    {
      "cell_type": "code",
      "source": [
        "row = df.loc[1]  # Access the second row (index 1)\n",
        "print(row)\n",
        "\n"
      ],
      "metadata": {
        "colab": {
          "base_uri": "https://localhost:8080/"
        },
        "id": "1c3SfzLtwFnQ",
        "outputId": "71ecf7d0-b94e-4053-b6e7-feff28a1516a"
      },
      "execution_count": null,
      "outputs": [
        {
          "output_type": "stream",
          "name": "stdout",
          "text": [
            "Name              Bob\n",
            "Age                30\n",
            "City    San Francisco\n",
            "Name: 1, dtype: object\n"
          ]
        }
      ]
    },
    {
      "cell_type": "code",
      "source": [
        "print(df.describe())\n"
      ],
      "metadata": {
        "colab": {
          "base_uri": "https://localhost:8080/"
        },
        "id": "rVYR1anlwSCY",
        "outputId": "52c97c2e-16f7-43d2-bfc8-fc422f6a5baa"
      },
      "execution_count": null,
      "outputs": [
        {
          "output_type": "stream",
          "name": "stdout",
          "text": [
            "             Age\n",
            "count   9.000000\n",
            "mean   33.555556\n",
            "std     7.828012\n",
            "min    25.000000\n",
            "25%    30.000000\n",
            "50%    32.000000\n",
            "75%    35.000000\n",
            "max    50.000000\n"
          ]
        }
      ]
    },
    {
      "cell_type": "code",
      "source": [
        "filtered_df = df[df['Age'] > 30]  # Get rows where Age is greater than 30\n",
        "print(filtered_df)\n"
      ],
      "metadata": {
        "colab": {
          "base_uri": "https://localhost:8080/"
        },
        "id": "-8tioWSiwcKa",
        "outputId": "0f511a9a-6064-4773-8a22-9de404edd699"
      },
      "execution_count": null,
      "outputs": [
        {
          "output_type": "stream",
          "name": "stdout",
          "text": [
            "      Name  Age           City\n",
            "2  Charlie   35    Los Angeles\n",
            "3    David   40        Chicago\n",
            "4    Riyad   32       New York\n",
            "5    Hasan   35       New York\n",
            "8    Jamal   50  San Francisco\n"
          ]
        }
      ]
    },
    {
      "cell_type": "code",
      "source": [
        "df['Gender'] = ['Female', 'Male', 'Male', 'Male', 'Male','Female','Female', 'Male', 'Male',]\n",
        "print(df)\n"
      ],
      "metadata": {
        "colab": {
          "base_uri": "https://localhost:8080/"
        },
        "id": "DTPznprIwkmh",
        "outputId": "250e5491-e7bc-45cd-9d6a-d03ff36f0cf3"
      },
      "execution_count": null,
      "outputs": [
        {
          "output_type": "stream",
          "name": "stdout",
          "text": [
            "      Name  Age           City  Gender\n",
            "0    Alice   25       New York  Female\n",
            "1      Bob   30  San Francisco    Male\n",
            "2  Charlie   35    Los Angeles    Male\n",
            "3    David   40        Chicago    Male\n",
            "4    Riyad   32       New York    Male\n",
            "5    Hasan   35       New York  Female\n",
            "6    Fahim   25    Los Angeles  Female\n",
            "7    Kamal   30        Chicago    Male\n",
            "8    Jamal   50  San Francisco    Male\n"
          ]
        }
      ]
    },
    {
      "cell_type": "code",
      "source": [
        "# Rename Column\n",
        "df.rename(columns={'Name': 'Full Name', 'Age': 'Years Old'}, inplace=True)\n",
        "print(df)\n"
      ],
      "metadata": {
        "colab": {
          "base_uri": "https://localhost:8080/"
        },
        "id": "Juwojm77wro5",
        "outputId": "96824c52-7486-4f9a-ba60-9c7161804f04"
      },
      "execution_count": null,
      "outputs": [
        {
          "output_type": "stream",
          "name": "stdout",
          "text": [
            "  Full Name  Years Old           City  Gender\n",
            "0     Alice         25       New York  Female\n",
            "1       Bob         30  San Francisco    Male\n",
            "2   Charlie         35    Los Angeles    Male\n",
            "3     David         40        Chicago    Male\n",
            "4     Riyad         32       New York    Male\n",
            "5     Hasan         35       New York  Female\n",
            "6     Fahim         25    Los Angeles  Female\n",
            "7     Kamal         30        Chicago    Male\n",
            "8     Jamal         50  San Francisco    Male\n"
          ]
        }
      ]
    },
    {
      "cell_type": "code",
      "source": [
        "df['Income'] = [50000, None, 60000, 25000, 35000,70000,58000,45000,65000,]\n",
        "print(df)"
      ],
      "metadata": {
        "colab": {
          "base_uri": "https://localhost:8080/"
        },
        "id": "PbsYIxJJxxsh",
        "outputId": "5518d405-4cdc-4176-9139-e7939ea88d3e"
      },
      "execution_count": null,
      "outputs": [
        {
          "output_type": "stream",
          "name": "stdout",
          "text": [
            "  Full Name  Years Old           City  Gender   Income\n",
            "0     Alice         25       New York  Female  50000.0\n",
            "1       Bob         30  San Francisco    Male      NaN\n",
            "2   Charlie         35    Los Angeles    Male  60000.0\n",
            "3     David         40        Chicago    Male  25000.0\n",
            "4     Riyad         32       New York    Male  35000.0\n",
            "5     Hasan         35       New York  Female  70000.0\n",
            "6     Fahim         25    Los Angeles  Female  58000.0\n",
            "7     Kamal         30        Chicago    Male  45000.0\n",
            "8     Jamal         50  San Francisco    Male  65000.0\n"
          ]
        }
      ]
    },
    {
      "cell_type": "code",
      "source": [
        "df.dropna(inplace= True)  # Remove rows with missing values\n",
        "print(df)"
      ],
      "metadata": {
        "colab": {
          "base_uri": "https://localhost:8080/"
        },
        "id": "Vzm_1aX7yPDi",
        "outputId": "25ef111b-0f5d-4f6d-f61c-0af839b8e788"
      },
      "execution_count": null,
      "outputs": [
        {
          "output_type": "stream",
          "name": "stdout",
          "text": [
            "  Full Name  Years Old           City  Gender   Income\n",
            "0     Alice         25       New York  Female  50000.0\n",
            "2   Charlie         35    Los Angeles    Male  60000.0\n",
            "3     David         40        Chicago    Male  25000.0\n",
            "4     Riyad         32       New York    Male  35000.0\n",
            "5     Hasan         35       New York  Female  70000.0\n",
            "6     Fahim         25    Los Angeles  Female  58000.0\n",
            "7     Kamal         30        Chicago    Male  45000.0\n",
            "8     Jamal         50  San Francisco    Male  65000.0\n"
          ]
        }
      ]
    },
    {
      "cell_type": "code",
      "source": [
        "df.to_csv('my_data.csv', index=False)  # Save to CSV\n",
        "loaded_df = pd.read_csv('my_data.csv')  # Load from CSV\n",
        "print(loaded_df)\n"
      ],
      "metadata": {
        "colab": {
          "base_uri": "https://localhost:8080/"
        },
        "id": "ipurLupEyd0Z",
        "outputId": "a055b04e-fdb5-434d-fc3c-b53652f3bfb1"
      },
      "execution_count": null,
      "outputs": [
        {
          "output_type": "stream",
          "name": "stdout",
          "text": [
            "  Full Name  Years Old           City  Gender   Income\n",
            "0     Alice         25       New York  Female  50000.0\n",
            "1   Charlie         35    Los Angeles    Male  60000.0\n",
            "2     David         40        Chicago    Male  25000.0\n",
            "3     Riyad         32       New York    Male  35000.0\n",
            "4     Hasan         35       New York  Female  70000.0\n",
            "5     Fahim         25    Los Angeles  Female  58000.0\n",
            "6     Kamal         30        Chicago    Male  45000.0\n",
            "7     Jamal         50  San Francisco    Male  65000.0\n"
          ]
        }
      ]
    },
    {
      "cell_type": "code",
      "source": [
        "import pandas as pd\n",
        "\n",
        "# First DataFrame\n",
        "data1 = {'ID': [1, 2, 3, 4],\n",
        "         'Name': ['Alice', 'Bob', 'Charlie', 'David']}\n",
        "df1 = pd.DataFrame(data1)\n",
        "\n",
        "# Second DataFrame\n",
        "data2 = {'ID': [2, 3, 4, 5],\n",
        "         'Age': [25, 30, 35, 40]}\n",
        "df2 = pd.DataFrame(data2)\n",
        "# Merge based on the 'ID' column\n",
        "merged_df1 = pd.merge(df1, df2, on='ID')\n",
        "merged_df2 = pd.merge(df1, df2, on='ID', how='outer')\n",
        "merged_df3 = pd.merge(df1, df2, on='ID', how='left')\n",
        "merged_df4 = pd.merge(df1, df2, on='ID', how='right')\n",
        "\n",
        "print(\"Hello \\n \",merged_df1)\n",
        "print(\"Hello \\n \",merged_df2)\n",
        "print(\"Hello \\n \",merged_df3)\n",
        "print(\"Hello \\n \",merged_df4)\n",
        "\n"
      ],
      "metadata": {
        "colab": {
          "base_uri": "https://localhost:8080/"
        },
        "id": "2LIPt55w8Phz",
        "outputId": "49fedf81-ba76-4347-cbda-825ad66a3002"
      },
      "execution_count": null,
      "outputs": [
        {
          "output_type": "stream",
          "name": "stdout",
          "text": [
            "Hello \n",
            "     ID     Name  Age\n",
            "0   2      Bob   25\n",
            "1   3  Charlie   30\n",
            "2   4    David   35\n",
            "Hello \n",
            "     ID     Name   Age\n",
            "0   1    Alice   NaN\n",
            "1   2      Bob  25.0\n",
            "2   3  Charlie  30.0\n",
            "3   4    David  35.0\n",
            "4   5      NaN  40.0\n",
            "Hello \n",
            "     ID     Name   Age\n",
            "0   1    Alice   NaN\n",
            "1   2      Bob  25.0\n",
            "2   3  Charlie  30.0\n",
            "3   4    David  35.0\n",
            "Hello \n",
            "     ID     Name  Age\n",
            "0   2      Bob   25\n",
            "1   3  Charlie   30\n",
            "2   4    David   35\n",
            "3   5      NaN   40\n"
          ]
        }
      ]
    },
    {
      "cell_type": "code",
      "source": [
        "import pandas as pd\n",
        "\n",
        "# Create the first DataFrame with employee information\n",
        "employee_data = {\n",
        "    'employee_id': [1, 2, 3, 4, 5],\n",
        "    'employee_name': ['Alice', 'Bob', 'Charlie', 'David', 'Eve'],\n",
        "    'department_id': [101, 102, 101, 103, 102]\n",
        "}\n",
        "\n",
        "df_employee = pd.DataFrame(employee_data)\n",
        "\n",
        "# Create the second DataFrame with department information\n",
        "department_data = {\n",
        "    'department_id': [101, 102, 103],\n",
        "    'department_name': ['HR', 'Finance', 'IT']\n",
        "}\n",
        "\n",
        "df_department = pd.DataFrame(department_data)\n",
        "\n",
        "# Now, let's merge these DataFrames based on the 'department_id' column\n",
        "merged_df = pd.merge(df_employee, df_department, on='department_id')\n",
        "\n",
        "print(merged_df)\n"
      ],
      "metadata": {
        "colab": {
          "base_uri": "https://localhost:8080/"
        },
        "id": "-ynsJwIg9z27",
        "outputId": "daad36f6-0ff5-4f8e-989b-eff0b3814e13"
      },
      "execution_count": null,
      "outputs": [
        {
          "output_type": "stream",
          "name": "stdout",
          "text": [
            "   employee_id employee_name  department_id department_name\n",
            "0            1         Alice            101              HR\n",
            "1            3       Charlie            101              HR\n",
            "2            2           Bob            102         Finance\n",
            "3            5           Eve            102         Finance\n",
            "4            4         David            103              IT\n"
          ]
        }
      ]
    },
    {
      "cell_type": "code",
      "source": [
        "import pandas as pd\n",
        "\n",
        "# Create two sample DataFrames\n",
        "data1 = {\n",
        "    'ID': [1, 2, 3, 4],\n",
        "    'Name': ['Alice', 'Bob', 'Charlie', 'David'],\n",
        "    'Department': ['HR', 'Engineering', 'Finance', 'Engineering']\n",
        "}\n",
        "\n",
        "data2 = {\n",
        "    'ID': [3, 4, 5, 6],\n",
        "    'Salary': [55000, 60000, 65000, 70000],\n",
        "    'Location': ['New York', 'San Francisco', 'Chicago', 'Boston']\n",
        "}\n",
        "\n",
        "df1 = pd.DataFrame(data1)\n",
        "df2 = pd.DataFrame(data2)\n",
        "\n",
        "# Merge the two DataFrames based on a common column 'ID'\n",
        "merged_df = pd.merge(df1, df2, on='ID')\n",
        "merged_df1 = pd.merge(df1, df2, on='ID', how = 'outer')\n",
        "merged_df2 = pd.merge(df1, df2, on='ID',  how = 'left')\n",
        "merged_df3 = pd.merge(df1, df2, on='ID',  how = 'right')\n",
        "\n",
        "print(merged_df)\n",
        "print(\"........................................\\n\")\n",
        "print(merged_df1)\n",
        "print(\"........................................\\n\")\n",
        "print(merged_df2)\n",
        "print(\"........................................\\n\")\n",
        "print(merged_df3)\n"
      ],
      "metadata": {
        "colab": {
          "base_uri": "https://localhost:8080/"
        },
        "id": "lpqt8VvV_v3S",
        "outputId": "e6d8fd3f-520a-4099-c3af-a94828428a7d"
      },
      "execution_count": null,
      "outputs": [
        {
          "output_type": "stream",
          "name": "stdout",
          "text": [
            "   ID     Name   Department  Salary       Location\n",
            "0   3  Charlie      Finance   55000       New York\n",
            "1   4    David  Engineering   60000  San Francisco\n",
            "........................................\n",
            "\n",
            "   ID     Name   Department   Salary       Location\n",
            "0   1    Alice           HR      NaN            NaN\n",
            "1   2      Bob  Engineering      NaN            NaN\n",
            "2   3  Charlie      Finance  55000.0       New York\n",
            "3   4    David  Engineering  60000.0  San Francisco\n",
            "4   5      NaN          NaN  65000.0        Chicago\n",
            "5   6      NaN          NaN  70000.0         Boston\n",
            "........................................\n",
            "\n",
            "   ID     Name   Department   Salary       Location\n",
            "0   1    Alice           HR      NaN            NaN\n",
            "1   2      Bob  Engineering      NaN            NaN\n",
            "2   3  Charlie      Finance  55000.0       New York\n",
            "3   4    David  Engineering  60000.0  San Francisco\n",
            "........................................\n",
            "\n",
            "   ID     Name   Department  Salary       Location\n",
            "0   3  Charlie      Finance   55000       New York\n",
            "1   4    David  Engineering   60000  San Francisco\n",
            "2   5      NaN          NaN   65000        Chicago\n",
            "3   6      NaN          NaN   70000         Boston\n"
          ]
        }
      ]
    },
    {
      "cell_type": "code",
      "source": [
        "import pandas as pd\n",
        "\n",
        "# Creating the first DataFrame with student information\n",
        "students_data = {\n",
        "    'student_id': [1, 2, 3, 4, 5],\n",
        "    'first_name': ['Alice', 'Bob', 'Charlie', 'David', 'Eva'],\n",
        "    'last_name': ['Smith', 'Johnson', 'Brown', 'Davis', 'Lee'],\n",
        "    'age': [20, 22, 21, 23, 24]\n",
        "}\n",
        "\n",
        "students_df = pd.DataFrame(students_data)\n",
        "\n",
        "# Creating the second DataFrame with course enrollment information\n",
        "courses_data = {\n",
        "    'student_id': [1, 2, 3, 4, 6],\n",
        "    'course_name': ['Math', 'Science', 'History', 'English', 'Art'],\n",
        "    'grade': ['A', 'B', 'A', 'C', 'A']\n",
        "}\n",
        "\n",
        "courses_df = pd.DataFrame(courses_data)\n",
        "\n",
        "# Now, let's merge these DataFrames based on the 'student_id' column\n",
        "merged_df = pd.merge(students_df, courses_df, on='student_id', how='inner')\n",
        "\n",
        "# Explanation:\n",
        "# - 'on' specifies the common column to merge on, which is 'student_id' in this case.\n",
        "# - 'how' specifies the type of join to perform. Here, 'inner' means we only include students who are enrolled in courses.\n",
        "\n",
        "# Display the merged DataFrame\n",
        "print(merged_df)\n"
      ],
      "metadata": {
        "colab": {
          "base_uri": "https://localhost:8080/"
        },
        "id": "Tg-MUOUhCuvF",
        "outputId": "b79f7241-db45-4e11-980b-bba60ca2db90"
      },
      "execution_count": null,
      "outputs": [
        {
          "output_type": "stream",
          "name": "stdout",
          "text": [
            "   student_id first_name last_name  age course_name grade\n",
            "0           1      Alice     Smith   20        Math     A\n",
            "1           2        Bob   Johnson   22     Science     B\n",
            "2           3    Charlie     Brown   21     History     A\n",
            "3           4      David     Davis   23     English     C\n"
          ]
        }
      ]
    },
    {
      "cell_type": "code",
      "source": [
        "import pandas as pd\n",
        "\n",
        "# Creating a DataFrame with sales data\n",
        "data = {\n",
        "    'product': ['A', 'B', 'A', 'C', 'B', 'A', 'C', 'A'],\n",
        "    'date': ['2023-01-01', '2023-01-01', '2023-01-02', '2023-01-02', '2023-01-03', '2023-01-03', '2023-01-04', '2023-01-04'],\n",
        "    'sales': [100, 150, 120, 80, 200, 90, 110, 130]\n",
        "}\n",
        "\n",
        "df = pd.DataFrame(data)\n",
        "\n",
        "# Grouping the DataFrame by 'product'\n",
        "grouped = df.groupby('product')\n",
        "\n",
        "# Now, let's perform some operations on the groups:\n",
        "\n",
        "# 1. Calculate the total sales for each product\n",
        "total_sales = grouped['sales'].sum()\n",
        "total_sales1 =df.groupby('product')['sales'].sum()\n",
        "\n",
        "# 2. Calculate the average sales for each product\n",
        "average_sales = grouped['sales'].mean()\n",
        "\n",
        "# 3. Find the maximum sales for each product\n",
        "max_sales = grouped['sales'].max()\n",
        "\n",
        "# 4. Count the number of transactions for each product\n",
        "transaction_count = grouped.size()\n",
        "\n",
        "# Display the results\n",
        "print(\"Total Sales:\")\n",
        "print(total_sales1)\n",
        "print(\"\\nAverage Sales:\")\n",
        "print(average_sales)\n",
        "print(\"\\nMaximum Sales:\")\n",
        "print(max_sales)\n",
        "print(\"\\nTransaction Count:\")\n",
        "print(transaction_count)\n"
      ],
      "metadata": {
        "colab": {
          "base_uri": "https://localhost:8080/"
        },
        "id": "EnaO_5VAHwAU",
        "outputId": "0d7c59a2-7bd7-4ff2-ee1e-2d3212538425"
      },
      "execution_count": null,
      "outputs": [
        {
          "output_type": "stream",
          "name": "stdout",
          "text": [
            "Total Sales:\n",
            "product\n",
            "A    440\n",
            "B    350\n",
            "C    190\n",
            "Name: sales, dtype: int64\n",
            "\n",
            "Average Sales:\n",
            "product\n",
            "A    110.0\n",
            "B    175.0\n",
            "C     95.0\n",
            "Name: sales, dtype: float64\n",
            "\n",
            "Maximum Sales:\n",
            "product\n",
            "A    130\n",
            "B    200\n",
            "C    110\n",
            "Name: sales, dtype: int64\n",
            "\n",
            "Transaction Count:\n",
            "product\n",
            "A    4\n",
            "B    2\n",
            "C    2\n",
            "dtype: int64\n"
          ]
        }
      ]
    },
    {
      "cell_type": "code",
      "source": [
        "import pandas as pd\n",
        "\n",
        "# Creating a DataFrame with sales data\n",
        "data = {\n",
        "    'product': ['A', 'B', 'A', 'C', 'B', 'A', 'C', 'A'],\n",
        "    'date': ['2023-01-01', '2023-01-01', '2023-01-02', '2023-01-02', '2023-01-03', '2023-01-03', '2023-01-04', '2023-01-04'],\n",
        "    'sales': [100, 150, 120, 80, 200, 90, 110, 130]\n",
        "}\n",
        "\n",
        "df = pd.DataFrame(data)\n",
        "\n",
        "# Grouping the DataFrame by 'product'\n",
        "grouped = df.groupby('date')\n",
        "\n",
        "# Now, let's perform some operations on the groups:\n",
        "\n",
        "# 1. Calculate the total sales for each product\n",
        "total_sales = grouped['sales'].sum()\n",
        "\n",
        "# 2. Calculate the average sales for each product\n",
        "average_sales = grouped['sales'].mean()\n",
        "\n",
        "# 3. Find the maximum sales for each product\n",
        "max_sales = grouped['sales'].max()\n",
        "\n",
        "# 4. Count the number of transactions for each product\n",
        "transaction_count = grouped.size()\n",
        "\n",
        "# Display the results\n",
        "print(\"Total Sales:\")\n",
        "print(total_sales)\n",
        "print(\"\\nAverage Sales:\")\n",
        "print(average_sales)\n",
        "print(\"\\nMaximum Sales:\")\n",
        "print(max_sales)\n",
        "print(\"\\nTransaction Count:\")\n",
        "print(transaction_count)\n"
      ],
      "metadata": {
        "colab": {
          "base_uri": "https://localhost:8080/"
        },
        "id": "P3PEJtGuIT_c",
        "outputId": "4cc0f538-9dec-4591-a1aa-c868ee3b46bc"
      },
      "execution_count": null,
      "outputs": [
        {
          "output_type": "stream",
          "name": "stdout",
          "text": [
            "Total Sales:\n",
            "date\n",
            "2023-01-01    250\n",
            "2023-01-02    200\n",
            "2023-01-03    290\n",
            "2023-01-04    240\n",
            "Name: sales, dtype: int64\n",
            "\n",
            "Average Sales:\n",
            "date\n",
            "2023-01-01    125.0\n",
            "2023-01-02    100.0\n",
            "2023-01-03    145.0\n",
            "2023-01-04    120.0\n",
            "Name: sales, dtype: float64\n",
            "\n",
            "Maximum Sales:\n",
            "date\n",
            "2023-01-01    150\n",
            "2023-01-02    120\n",
            "2023-01-03    200\n",
            "2023-01-04    130\n",
            "Name: sales, dtype: int64\n",
            "\n",
            "Transaction Count:\n",
            "date\n",
            "2023-01-01    2\n",
            "2023-01-02    2\n",
            "2023-01-03    2\n",
            "2023-01-04    2\n",
            "dtype: int64\n"
          ]
        }
      ]
    },
    {
      "cell_type": "code",
      "source": [
        "import pandas as pd\n",
        "\n",
        "# Creating a sample DataFrame\n",
        "data = {\n",
        "    'product_id': [1, 2, 3, 4, 5, 6, 7, 8, 9, 10],\n",
        "    'product_name': ['Apple', 'Banana', 'Apple', 'Orange', 'Banana', 'Orange', 'Apple', 'Banana', 'Orange', 'Apple'],\n",
        "    'product_category': ['Fruit', 'Flower', 'Fruit', 'Fruit', 'Toy', 'Book', 'Fruit', 'Fruit', 'Fruit', 'Toy', ],\n",
        "    'price': [1.0, 0.5, 1.2, 0.8, 0.6, 0.7, 1.1, 0.4, 0.9, 1.0],\n",
        "    'quantity_sold': [10, 15, 8, 12, 20, 9, 11, 18, 14, 7]\n",
        "}\n",
        "\n",
        "df = pd.DataFrame(data)\n",
        "\n",
        "# Grouping by 'product_category' and aggregating data\n",
        "grouped = df.groupby('product_category').agg({\n",
        "    'quantity_sold': 'sum',\n",
        "    'price':'min'\n",
        "}).reset_index()\n",
        "print(grouped)\n"
      ],
      "metadata": {
        "colab": {
          "base_uri": "https://localhost:8080/"
        },
        "id": "PDJ-z71uKCHN",
        "outputId": "b6336f2f-c7db-41f8-d090-82cf51a640fb"
      },
      "execution_count": null,
      "outputs": [
        {
          "output_type": "stream",
          "name": "stdout",
          "text": [
            "  product_category  quantity_sold  price\n",
            "0             Book              9    0.7\n",
            "1           Flower             15    0.5\n",
            "2            Fruit             73    0.4\n",
            "3              Toy             27    0.6\n"
          ]
        }
      ]
    },
    {
      "cell_type": "code",
      "source": [
        "import pandas as pd\n",
        "\n",
        "# Creating a sample DataFrame\n",
        "data = {\n",
        "    'Product': ['A', 'B', 'A', 'B', 'A', 'B', 'A', 'B'],\n",
        "    'Category': ['X', 'Y', 'X', 'Y', 'X', 'Y', 'X', 'Y'],\n",
        "    'Price': [10.0, 15.0, 12.0, 18.0, 11.0, 16.0, 13.0, 19.0],\n",
        "    'Quantity': [100, 150, 120, 180, 110, 160, 130, 190]\n",
        "}\n",
        "\n",
        "df = pd.DataFrame(data)\n",
        "\n",
        "# Grouping by 'Category'\n",
        "grouped = df.groupby('Category')\n",
        "\n",
        "# Calculating total sales and average price for each category\n",
        "total_sales = grouped['Price'].sum()\n",
        "average_price = grouped['Price'].mean()\n",
        "total_count = grouped.size()\n",
        "\n",
        "# Display the results\n",
        "print(\"Total Sales by Category:\")\n",
        "print(total_sales)\n",
        "print(\"\\nAverage Price by Category:\")\n",
        "print(average_price)\n",
        "\n",
        "print(total_count)\n"
      ],
      "metadata": {
        "colab": {
          "base_uri": "https://localhost:8080/"
        },
        "id": "CPTHnsoHS2RO",
        "outputId": "d1dceb46-fa0e-4985-e36d-ada870485e3a"
      },
      "execution_count": null,
      "outputs": [
        {
          "output_type": "stream",
          "name": "stdout",
          "text": [
            "Total Sales by Category:\n",
            "Category\n",
            "X    46.0\n",
            "Y    68.0\n",
            "Name: Price, dtype: float64\n",
            "\n",
            "Average Price by Category:\n",
            "Category\n",
            "X    11.5\n",
            "Y    17.0\n",
            "Name: Price, dtype: float64\n",
            "Category\n",
            "X    4\n",
            "Y    4\n",
            "dtype: int64\n"
          ]
        }
      ]
    },
    {
      "cell_type": "code",
      "source": [
        "import pandas as pd\n",
        "\n",
        "# Creating a sample DataFrame\n",
        "data = {\n",
        "    'Name': ['Alice', 'Bob', 'Charlie', 'David', 'Eva', 'Hasan', 'Fahim', 'Kamal'],\n",
        "    'Age': [25, 30, 22, 35, 28, 22, 20, 22],\n",
        "    'Salary': [50000, 60000, 65000, 40000, 55000,35000,78000,15000 ]\n",
        "}\n",
        "\n",
        "df = pd.DataFrame(data)\n",
        "\n",
        "# Sorting by a single column in ascending order\n",
        "sorted_df = df.sort_values(by='Age')\n",
        "\n",
        "# Sorting by a single column in descending order\n",
        "sorted_df_desc = df.sort_values(by='Salary', ascending=False)\n",
        "\n",
        "# Sorting by multiple columns\n",
        "sorted_multi_df = df.sort_values(by=['Age', 'Salary'], ascending=False)\n",
        "\n",
        "# Display the sorted DataFrames\n",
        "print(\"Sorted by Age (ascending):\\n\", sorted_df)\n",
        "print(\"\\nSorted by Salary (descending):\\n\", sorted_df_desc)\n",
        "print(\"\\nSorted by Age and Salary:\\n\", sorted_multi_df)\n"
      ],
      "metadata": {
        "colab": {
          "base_uri": "https://localhost:8080/"
        },
        "id": "2Y7YCrOITxYv",
        "outputId": "99ddd322-d9a1-4b1f-be2b-234027f90c09"
      },
      "execution_count": null,
      "outputs": [
        {
          "output_type": "stream",
          "name": "stdout",
          "text": [
            "Sorted by Age (ascending):\n",
            "       Name  Age  Salary\n",
            "6    Fahim   20   78000\n",
            "2  Charlie   22   65000\n",
            "5    Hasan   22   35000\n",
            "7    Kamal   22   15000\n",
            "0    Alice   25   50000\n",
            "4      Eva   28   55000\n",
            "1      Bob   30   60000\n",
            "3    David   35   40000\n",
            "\n",
            "Sorted by Salary (descending):\n",
            "       Name  Age  Salary\n",
            "6    Fahim   20   78000\n",
            "2  Charlie   22   65000\n",
            "1      Bob   30   60000\n",
            "4      Eva   28   55000\n",
            "0    Alice   25   50000\n",
            "3    David   35   40000\n",
            "5    Hasan   22   35000\n",
            "7    Kamal   22   15000\n",
            "\n",
            "Sorted by Age and Salary:\n",
            "       Name  Age  Salary\n",
            "3    David   35   40000\n",
            "1      Bob   30   60000\n",
            "4      Eva   28   55000\n",
            "0    Alice   25   50000\n",
            "2  Charlie   22   65000\n",
            "5    Hasan   22   35000\n",
            "7    Kamal   22   15000\n",
            "6    Fahim   20   78000\n"
          ]
        }
      ]
    },
    {
      "cell_type": "code",
      "source": [
        "import pandas as pd\n",
        "\n",
        "# Creating a sample DataFrame\n",
        "data = {\n",
        "    'Employee_ID': [101, 102, 103, 104, 105, 106,108,100],\n",
        "    'First_Name': ['Alice', 'Bob', 'Charlie', 'David', 'Ava','David', 'Aamir', 'Aaa'],\n",
        "    'Last_Name': ['Smith', 'Johnson', 'Brown', 'Davis', 'Lee', 'Hasan','Kamal', 'Mahnub'],\n",
        "    'Salary': [55000, 60000, 48000, 72000, 83000, 65000,55000,90000]\n",
        "}\n",
        "\n",
        "df = pd.DataFrame(data)\n",
        "# apply\n",
        "df['Salary'] = df['Salary'].apply(lambda x: x + 100)\n",
        "print(df)\n",
        "\n",
        "# Sorting the DataFrame by 'Salary' in descending order\n",
        "sorted_df = df.sort_values(by='Salary', ascending=False)\n",
        "\n",
        "# Display the sorted DataFrame\n",
        "print(sorted_df)\n"
      ],
      "metadata": {
        "colab": {
          "base_uri": "https://localhost:8080/"
        },
        "id": "sVbroxNnWACc",
        "outputId": "9fb64e1f-f0a1-4739-8172-5a1e3159ef9f"
      },
      "execution_count": null,
      "outputs": [
        {
          "output_type": "stream",
          "name": "stdout",
          "text": [
            "   Employee_ID First_Name Last_Name  Salary\n",
            "0          101      Alice     Smith   55100\n",
            "1          102        Bob   Johnson   60100\n",
            "2          103    Charlie     Brown   48100\n",
            "3          104      David     Davis   72100\n",
            "4          105        Ava       Lee   83100\n",
            "5          106      David     Hasan   65100\n",
            "6          108      Aamir     Kamal   55100\n",
            "7          100        Aaa    Mahnub   90100\n",
            "   Employee_ID First_Name Last_Name  Salary\n",
            "7          100        Aaa    Mahnub   90100\n",
            "4          105        Ava       Lee   83100\n",
            "3          104      David     Davis   72100\n",
            "5          106      David     Hasan   65100\n",
            "1          102        Bob   Johnson   60100\n",
            "0          101      Alice     Smith   55100\n",
            "6          108      Aamir     Kamal   55100\n",
            "2          103    Charlie     Brown   48100\n"
          ]
        }
      ]
    },
    {
      "cell_type": "code",
      "source": [
        "# Sorting by 'Salary' in descending order and then by 'First_Name' in ascending order\n",
        "sorted_df = df.sort_values(by=['Salary','First_Name' ], ascending=[ False, True])\n",
        "print(sorted_df)\n"
      ],
      "metadata": {
        "colab": {
          "base_uri": "https://localhost:8080/"
        },
        "id": "uPRAOIpcXCAu",
        "outputId": "103fe9ad-e8f9-422a-aae5-ce9f8db54c7a"
      },
      "execution_count": null,
      "outputs": [
        {
          "output_type": "stream",
          "name": "stdout",
          "text": [
            "   Employee_ID First_Name Last_Name  Salary\n",
            "7          100        Aaa    Mahnub   90000\n",
            "4          105        Ava       Lee   83000\n",
            "3          104      David     Davis   72000\n",
            "5          106      David     Hasan   65000\n",
            "1          102        Bob   Johnson   60000\n",
            "6          108      Aamir     Kamal   55000\n",
            "0          101      Alice     Smith   55000\n",
            "2          103    Charlie     Brown   48000\n"
          ]
        }
      ]
    },
    {
      "cell_type": "code",
      "source": [
        "df.to_excel('data.xlsx', index=False)"
      ],
      "metadata": {
        "id": "5ZI3W-rMnLdK"
      },
      "execution_count": null,
      "outputs": []
    },
    {
      "cell_type": "code",
      "source": [
        "df['SalaryIncrement'] = df['Salary'].apply(lambda x: x + 1000)\n",
        "print(df)"
      ],
      "metadata": {
        "colab": {
          "base_uri": "https://localhost:8080/"
        },
        "id": "yj9kk8kxn48h",
        "outputId": "2d4d189a-4a60-4155-acba-5ad77bba99cc"
      },
      "execution_count": null,
      "outputs": [
        {
          "output_type": "stream",
          "name": "stdout",
          "text": [
            "   Employee_ID First_Name Last_Name  Salary  SalaryIncrement\n",
            "0          101      Alice     Smith   55100            56100\n",
            "1          102        Bob   Johnson   60100            61100\n",
            "2          103    Charlie     Brown   48100            49100\n",
            "3          104      David     Davis   72100            73100\n",
            "4          105        Ava       Lee   83100            84100\n",
            "5          106      David     Hasan   65100            66100\n",
            "6          108      Aamir     Kamal   55100            56100\n",
            "7          100        Aaa    Mahnub   90100            91100\n"
          ]
        }
      ]
    },
    {
      "cell_type": "code",
      "source": [
        "# df.drop('Salary', axis=1, inplace=True)\n",
        "print(df)"
      ],
      "metadata": {
        "colab": {
          "base_uri": "https://localhost:8080/"
        },
        "id": "qkkt3IFFoTff",
        "outputId": "7fcce7a4-e692-4809-a972-d91869cb5db4"
      },
      "execution_count": null,
      "outputs": [
        {
          "output_type": "stream",
          "name": "stdout",
          "text": [
            "   Employee_ID First_Name Last_Name  SalaryIncrement\n",
            "0          101      Alice     Smith            56100\n",
            "1          102        Bob   Johnson            61100\n",
            "2          103    Charlie     Brown            49100\n",
            "3          104      David     Davis            73100\n",
            "4          105        Ava       Lee            84100\n",
            "5          106      David     Hasan            66100\n",
            "6          108      Aamir     Kamal            56100\n",
            "7          100        Aaa    Mahnub            91100\n"
          ]
        }
      ]
    },
    {
      "cell_type": "code",
      "source": [
        "grouped = df.groupby('First_Name')['SalaryIncrement'].count()\n",
        "print(grouped)"
      ],
      "metadata": {
        "colab": {
          "base_uri": "https://localhost:8080/"
        },
        "id": "tx4VyPvzoqFA",
        "outputId": "7ca98a97-f517-4d17-ee97-868a1bf42d4c"
      },
      "execution_count": null,
      "outputs": [
        {
          "output_type": "stream",
          "name": "stdout",
          "text": [
            "First_Name\n",
            "Aaa        1\n",
            "Aamir      1\n",
            "Alice      1\n",
            "Ava        1\n",
            "Bob        1\n",
            "Charlie    1\n",
            "David      2\n",
            "Name: SalaryIncrement, dtype: int64\n"
          ]
        }
      ]
    },
    {
      "cell_type": "code",
      "source": [
        "import pandas as pd\n",
        "\n",
        "# Creating two DataFrames\n",
        "df1 = pd.DataFrame({'A': ['A0', 'A1', 'A2'],\n",
        "                    'B': ['B0', 'B1', 'B2']})\n",
        "\n",
        "df2 = pd.DataFrame({'A': ['A3', 'A4', 'A5'],\n",
        "                    'B': ['B3', 'B4', 'B5']})\n",
        "\n",
        "# Concatenating vertically (along rows)\n",
        "result_vertical = pd.concat([df1, df2], axis=0)\n",
        "\n",
        "# Concatenating horizontally (along columns)\n",
        "result_horizontal = pd.concat([df1, df2], axis=1)\n",
        "print(result_vertical)\n",
        "print(result_horizontal)\n"
      ],
      "metadata": {
        "colab": {
          "base_uri": "https://localhost:8080/"
        },
        "id": "ar-eLjR2pSk4",
        "outputId": "677077fd-cb4d-4ddf-d434-248d84044395"
      },
      "execution_count": null,
      "outputs": [
        {
          "output_type": "stream",
          "name": "stdout",
          "text": [
            "    A   B\n",
            "0  A0  B0\n",
            "1  A1  B1\n",
            "2  A2  B2\n",
            "0  A3  B3\n",
            "1  A4  B4\n",
            "2  A5  B5\n",
            "    A   B   A   B\n",
            "0  A0  B0  A3  B3\n",
            "1  A1  B1  A4  B4\n",
            "2  A2  B2  A5  B5\n"
          ]
        }
      ]
    },
    {
      "cell_type": "code",
      "source": [
        "import pandas as pd\n",
        "\n",
        "# Create two DataFrames\n",
        "df1 = pd.DataFrame({'A': [1, 2, 3], 'B': [4, 5, 6]})\n",
        "df2 = pd.DataFrame({'C': [7, 8, 9], 'D': [10, 11, 12]})\n",
        "\n",
        "# Use concat to stack them vertically (row-wise)\n",
        "result = pd.concat([df1, df2], axis=0)\n",
        "print(result)\n"
      ],
      "metadata": {
        "colab": {
          "base_uri": "https://localhost:8080/"
        },
        "id": "YXhJN8wkqVbu",
        "outputId": "47f9c4c7-2fea-4902-b632-6e2056c91db0"
      },
      "execution_count": null,
      "outputs": [
        {
          "output_type": "stream",
          "name": "stdout",
          "text": [
            "     A    B    C     D\n",
            "0  1.0  4.0  NaN   NaN\n",
            "1  2.0  5.0  NaN   NaN\n",
            "2  3.0  6.0  NaN   NaN\n",
            "0  NaN  NaN  7.0  10.0\n",
            "1  NaN  NaN  8.0  11.0\n",
            "2  NaN  NaN  9.0  12.0\n"
          ]
        }
      ]
    },
    {
      "cell_type": "code",
      "source": [
        "import pandas as pd\n",
        "\n",
        "# Create two DataFrames\n",
        "df1 = pd.DataFrame({'A': [1, 2, 3], 'B': [4, 5, 6]})\n",
        "df2 = pd.DataFrame({'C': [7, 8, 9], 'D': [10, 11, 12]})\n",
        "\n",
        "# Use concat to stack them vertically (row-wise)\n",
        "result = pd.concat([df1, df2], axis=1)\n",
        "print(result)"
      ],
      "metadata": {
        "colab": {
          "base_uri": "https://localhost:8080/"
        },
        "id": "J8TAekcQqiWn",
        "outputId": "3f31d64c-b2f6-4a3d-cc06-a72038c224c3"
      },
      "execution_count": null,
      "outputs": [
        {
          "output_type": "stream",
          "name": "stdout",
          "text": [
            "   A  B  C   D\n",
            "0  1  4  7  10\n",
            "1  2  5  8  11\n",
            "2  3  6  9  12\n"
          ]
        }
      ]
    },
    {
      "cell_type": "code",
      "source": [
        "import pandas as pd\n",
        "\n",
        "# Create two sample DataFrames\n",
        "df1 = pd.DataFrame({'key': ['A', 'B', 'C', 'D'],\n",
        "                    'value1': [1, 2, 3, 4]})\n",
        "\n",
        "df2 = pd.DataFrame({'key': ['B', 'D', 'E', 'F'],\n",
        "                    'value2': [5, 6, 7, 8]})\n",
        "\n",
        "# Inner join on 'key' column\n",
        "result = pd.merge(df1, df2, on='key', how='inner')\n",
        "\n",
        "print(result)\n"
      ],
      "metadata": {
        "colab": {
          "base_uri": "https://localhost:8080/"
        },
        "id": "dhmlhMroqp-v",
        "outputId": "326d2dc5-3447-41e5-cc04-cee92e5a3ae8"
      },
      "execution_count": null,
      "outputs": [
        {
          "output_type": "stream",
          "name": "stdout",
          "text": [
            "  key  value1  value2\n",
            "0   B       2       5\n",
            "1   D       4       6\n"
          ]
        }
      ]
    },
    {
      "cell_type": "code",
      "source": [
        "import pandas as pd\n",
        "\n",
        "# Load data from a JSON file\n",
        "df = pd.read_json('data.json')\n",
        "\n",
        "# Display the loaded DataFrame\n",
        "print(df.head())\n"
      ],
      "metadata": {
        "id": "IecEjFugtr8h"
      },
      "execution_count": null,
      "outputs": []
    },
    {
      "cell_type": "code",
      "source": [
        "import pandas as pd\n",
        "\n",
        "# Creating a sample DataFrame\n",
        "data = {'A': [1, 2, 3, 4, 5],\n",
        "        'B': [10, 20, 30, 40, 50]}\n",
        "df = pd.DataFrame(data)\n",
        "\n",
        "# Accessing data using integer-based indexing\n",
        "value = df.iloc[2, 1]  # Access the element in the third row and second column\n",
        "# Accessing data using label-based indexing\n",
        "value1 = df.loc[3, 'B']  # Access the element in the fourth row and the 'B' column\n",
        "\n",
        "print(value)\n",
        "print(value1)\n"
      ],
      "metadata": {
        "colab": {
          "base_uri": "https://localhost:8080/"
        },
        "id": "OwIdmTOTvIXx",
        "outputId": "bacad910-09bc-456e-c20f-689876031755"
      },
      "execution_count": null,
      "outputs": [
        {
          "output_type": "stream",
          "name": "stdout",
          "text": [
            "30\n",
            "40\n"
          ]
        }
      ]
    },
    {
      "cell_type": "code",
      "source": [
        "# Slicing rows and columns\n",
        "subset = df.iloc[1:4, 0:2]  # Select rows 2 to 4 and columns 1 to 2\n",
        "print(subset)\n"
      ],
      "metadata": {
        "colab": {
          "base_uri": "https://localhost:8080/"
        },
        "id": "6pM-E-vovQCa",
        "outputId": "4126d5d9-3302-4f33-fffb-5cef456505cf"
      },
      "execution_count": null,
      "outputs": [
        {
          "output_type": "stream",
          "name": "stdout",
          "text": [
            "   A   B\n",
            "1  2  20\n",
            "2  3  30\n",
            "3  4  40\n"
          ]
        }
      ]
    },
    {
      "cell_type": "code",
      "source": [
        "# Accessing columns\n",
        "column_A = df['A']  # Using square brackets\n",
        "column_B = df.B      # Using dot notation\n",
        "print(column_A)\n",
        "print(column_B)\n"
      ],
      "metadata": {
        "colab": {
          "base_uri": "https://localhost:8080/"
        },
        "id": "lV1WhCzMxv5w",
        "outputId": "706ad6c2-9e45-4b4f-c12d-78008eaeff1d"
      },
      "execution_count": null,
      "outputs": [
        {
          "output_type": "stream",
          "name": "stdout",
          "text": [
            "0    1\n",
            "1    2\n",
            "2    3\n",
            "3    4\n",
            "4    5\n",
            "Name: A, dtype: int64\n",
            "0    10\n",
            "1    20\n",
            "2    30\n",
            "3    40\n",
            "4    50\n",
            "Name: B, dtype: int64\n"
          ]
        }
      ]
    },
    {
      "cell_type": "code",
      "source": [
        "# Setting 'A' as the index\n",
        "df.set_index('A', inplace=True)\n",
        "print(df)\n",
        "# Resetting the index\n",
        "df.reset_index(inplace=True)\n",
        "print(df)"
      ],
      "metadata": {
        "colab": {
          "base_uri": "https://localhost:8080/"
        },
        "id": "-MjToFhzx7ad",
        "outputId": "110c5915-5711-496f-fbff-9aa8115c3f4d"
      },
      "execution_count": null,
      "outputs": [
        {
          "output_type": "stream",
          "name": "stdout",
          "text": [
            "    B\n",
            "A    \n",
            "1  10\n",
            "2  20\n",
            "3  30\n",
            "4  40\n",
            "5  50\n",
            "   A   B\n",
            "0  1  10\n",
            "1  2  20\n",
            "2  3  30\n",
            "3  4  40\n",
            "4  5  50\n"
          ]
        }
      ]
    },
    {
      "cell_type": "code",
      "source": [
        "import pandas as pd\n",
        "\n",
        "# Create a sample DataFrame\n",
        "data = {'Name': ['Alice', 'Bob', 'Charlie'],\n",
        "        'Age': [25, 30, 35],\n",
        "        'City': ['New York', 'San Francisco', 'Los Angeles']}\n",
        "df = pd.DataFrame(data)\n",
        "\n",
        "# Select a single column\n",
        "name_column = df['Name']\n",
        "\n",
        "# Select multiple columns\n",
        "name_and_age = df[['Name', 'Age']]\n"
      ],
      "metadata": {
        "id": "-lps4b8vznkA"
      },
      "execution_count": null,
      "outputs": []
    },
    {
      "cell_type": "code",
      "source": [
        "# Select rows where Age is greater than 30 and City is 'New York'\n",
        "criteria = (df['Age'] > 30) & (df['City'] == 'Los Angeles')\n",
        "result = df[criteria]\n",
        "print(result)"
      ],
      "metadata": {
        "colab": {
          "base_uri": "https://localhost:8080/"
        },
        "id": "azM4u8Gtzt-Y",
        "outputId": "0b601eee-efce-4051-f78c-24b21db1181f"
      },
      "execution_count": null,
      "outputs": [
        {
          "output_type": "stream",
          "name": "stdout",
          "text": [
            "      Name  Age         City\n",
            "2  Charlie   35  Los Angeles\n"
          ]
        }
      ]
    },
    {
      "cell_type": "code",
      "source": [
        "import pandas as pd\n",
        "import numpy as np\n",
        "\n",
        "# Creating a Pandas DataFrame from a NumPy array\n",
        "data = np.array([[1, 2, 3], [4, 5, 6]])\n",
        "df = pd.DataFrame(data, columns=['A', 'B', 'C'])\n",
        "print(df)\n",
        "\n",
        "\n"
      ],
      "metadata": {
        "colab": {
          "base_uri": "https://localhost:8080/"
        },
        "id": "xRPwPmks0znS",
        "outputId": "c764323b-9d96-4df6-aefd-476ea5f77ecd"
      },
      "execution_count": null,
      "outputs": [
        {
          "output_type": "stream",
          "name": "stdout",
          "text": [
            "   A  B  C\n",
            "0  1  2  3\n",
            "1  4  5  6\n"
          ]
        }
      ]
    },
    {
      "cell_type": "code",
      "source": [
        "# Converting a Pandas DataFrame to a NumPy array\n",
        "numpy_array = df.to_numpy()\n",
        "print(numpy_array)"
      ],
      "metadata": {
        "colab": {
          "base_uri": "https://localhost:8080/"
        },
        "id": "PokWu79N0-oJ",
        "outputId": "3d463f11-d803-4563-92c8-2ab3c905b440"
      },
      "execution_count": null,
      "outputs": [
        {
          "output_type": "stream",
          "name": "stdout",
          "text": [
            "[[1 2 3]\n",
            " [4 5 6]]\n"
          ]
        }
      ]
    },
    {
      "cell_type": "code",
      "source": [
        "import pandas as pd\n",
        "import numpy as np\n",
        "\n",
        "data = {'A': [1, 2, 3], 'B': [4, 5, 6]}\n",
        "df = pd.DataFrame(data)\n",
        "\n",
        "# Applying a NumPy function (e.g., square root)\n",
        "result = np.sqrt(df['A'])\n",
        "result1 = np.square(df['A'])\n",
        "print(result)\n",
        "print(result1)"
      ],
      "metadata": {
        "colab": {
          "base_uri": "https://localhost:8080/"
        },
        "id": "ioe3Ha331JQ4",
        "outputId": "7200cb3a-bf8f-46bd-f038-9109473345f9"
      },
      "execution_count": null,
      "outputs": [
        {
          "output_type": "stream",
          "name": "stdout",
          "text": [
            "0    1.000000\n",
            "1    1.414214\n",
            "2    1.732051\n",
            "Name: A, dtype: float64\n",
            "0    1\n",
            "1    4\n",
            "2    9\n",
            "Name: A, dtype: int64\n"
          ]
        }
      ]
    }
  ]
}