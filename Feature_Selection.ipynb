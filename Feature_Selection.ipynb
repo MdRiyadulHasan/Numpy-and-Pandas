{
  "nbformat": 4,
  "nbformat_minor": 0,
  "metadata": {
    "colab": {
      "provenance": [],
      "authorship_tag": "ABX9TyPuF/RRdqtYwudX1fIifXER",
      "include_colab_link": true
    },
    "kernelspec": {
      "name": "python3",
      "display_name": "Python 3"
    },
    "language_info": {
      "name": "python"
    }
  },
  "cells": [
    {
      "cell_type": "markdown",
      "metadata": {
        "id": "view-in-github",
        "colab_type": "text"
      },
      "source": [
        "<a href=\"https://colab.research.google.com/github/MdRiyadulHasan/Numpy-and-Pandas/blob/main/Feature_Selection.ipynb\" target=\"_parent\"><img src=\"https://colab.research.google.com/assets/colab-badge.svg\" alt=\"Open In Colab\"/></a>"
      ]
    },
    {
      "cell_type": "code",
      "execution_count": null,
      "metadata": {
        "colab": {
          "base_uri": "https://localhost:8080/"
        },
        "id": "H1LOo5BSEWcj",
        "outputId": "44b4015c-3df6-4599-b698-7519379af251"
      },
      "outputs": [
        {
          "output_type": "stream",
          "name": "stdout",
          "text": [
            "{'Age': 0.4019864424943513, 'Income': 0.30648719994915724}\n",
            "Correlation between Age and Purchase: 0.40\n",
            "Correlation between Income and Purchase: 0.31\n"
          ]
        }
      ],
      "source": [
        "import pandas as pd\n",
        "import numpy as np\n",
        "\n",
        "# Sample dataset\n",
        "data = {\n",
        "    'Age': [25, 30, 35, 22, 45, 28, 50, 32, 38, 48],\n",
        "    'Income': [50000, 60000, 75000, 40000, 90000, 55000, 110000, 70000, 85000, 120000],\n",
        "    'Purchase': [0, 1, 1, 0, 1, 0, 1, 1, 1, 0]\n",
        "}\n",
        "\n",
        "# Create a DataFrame\n",
        "df = pd.DataFrame(data)\n",
        "\n",
        "# Separate features (Age and Income) and the target variable (Purchase)\n",
        "features = df[['Age', 'Income']]\n",
        "target = df['Purchase']\n",
        "\n",
        "# Calculate the correlation between each feature and the target\n",
        "correlation_scores = {}\n",
        "\n",
        "for feature in features.columns:\n",
        "    # Use Pearson correlation coefficient (default method)\n",
        "    correlation = np.corrcoef(features[feature], target)[0, 1]\n",
        "    correlation_scores[feature] = correlation\n",
        "\n",
        "print(correlation_scores)\n",
        "# Print the correlation scores\n",
        "for feature, correlation in correlation_scores.items():\n",
        "    print(f'Correlation between {feature} and Purchase: {correlation:.2f}')\n"
      ]
    },
    {
      "cell_type": "code",
      "source": [
        "from sklearn.preprocessing import LabelEncoder\n",
        "\n",
        "# Sample categorical data\n",
        "data = ['cat', 'dog', 'fish', 'dog', 'cat']\n",
        "\n",
        "# Initialize the label encoder\n",
        "label_encoder = LabelEncoder()\n",
        "\n",
        "# Fit and transform the data\n",
        "encoded_data = label_encoder.fit_transform(data)\n",
        "\n",
        "# Resulting encoded data\n",
        "print(encoded_data)\n",
        "# Output: [0 1 2 1 0]\n"
      ],
      "metadata": {
        "colab": {
          "base_uri": "https://localhost:8080/"
        },
        "id": "kIvH-EgPqWUU",
        "outputId": "a05b3d1e-6dc0-4f6a-dae4-c067efa0f715"
      },
      "execution_count": null,
      "outputs": [
        {
          "output_type": "stream",
          "name": "stdout",
          "text": [
            "[0 1 2 1 0]\n"
          ]
        }
      ]
    },
    {
      "cell_type": "code",
      "source": [
        "import pandas as pd\n",
        "\n",
        "# Sample data\n",
        "data = {'Color': ['Red', 'Green', 'Blue', 'Red', 'Green']}\n",
        "\n",
        "# Create a DataFrame\n",
        "df = pd.DataFrame(data)\n",
        "print(df)\n",
        "\n",
        "# Perform one-hot encoding\n",
        "one_hot_encoded = pd.get_dummies(df, columns=['Color'])\n",
        "\n",
        "# Display the result\n",
        "print(one_hot_encoded)\n"
      ],
      "metadata": {
        "colab": {
          "base_uri": "https://localhost:8080/"
        },
        "id": "-u5HbnfOrHwC",
        "outputId": "c5320b12-3bf2-431d-cf29-bf936c5e980c"
      },
      "execution_count": null,
      "outputs": [
        {
          "output_type": "stream",
          "name": "stdout",
          "text": [
            "   Color\n",
            "0    Red\n",
            "1  Green\n",
            "2   Blue\n",
            "3    Red\n",
            "4  Green\n",
            "   Color_Blue  Color_Green  Color_Red\n",
            "0           0            0          1\n",
            "1           0            1          0\n",
            "2           1            0          0\n",
            "3           0            0          1\n",
            "4           0            1          0\n"
          ]
        }
      ]
    },
    {
      "cell_type": "code",
      "source": [
        "import pandas as pd\n",
        "\n",
        "data = {'Education Level': ['High School', 'Bachelor', 'Master', 'PhD', 'Bachelor']}\n",
        "df = pd.DataFrame(data)\n",
        "\n",
        "from sklearn.preprocessing import LabelEncoder\n",
        "\n",
        "label_encoder = LabelEncoder()\n",
        "df['Encoded Education'] = label_encoder.fit_transform(df['Education Level'])\n",
        "print(df)\n"
      ],
      "metadata": {
        "colab": {
          "base_uri": "https://localhost:8080/"
        },
        "id": "giAhwVSnrbH5",
        "outputId": "1f38a26e-e5db-4ce1-9331-4639c3c5fe6a"
      },
      "execution_count": null,
      "outputs": [
        {
          "output_type": "stream",
          "name": "stdout",
          "text": [
            "  Education Level  Encoded Education\n",
            "0     High School                  1\n",
            "1        Bachelor                  0\n",
            "2          Master                  2\n",
            "3             PhD                  3\n",
            "4        Bachelor                  0\n"
          ]
        }
      ]
    },
    {
      "cell_type": "code",
      "source": [
        "from sklearn.datasets import load_iris\n",
        "from sklearn.ensemble import RandomForestClassifier\n",
        "from sklearn.model_selection import GridSearchCV, train_test_split\n",
        "\n",
        "# Load the dataset\n",
        "data = load_iris()\n",
        "X, y = data.data, data.target\n",
        "\n",
        "# Define the model\n",
        "model = RandomForestClassifier()\n",
        "\n",
        "# Define the hyperparameter grid to search\n",
        "param_grid = {\n",
        "    'n_estimators': [10, 50, 100, 200],\n",
        "    'max_depth': [None, 10, 20, 30],\n",
        "}\n",
        "\n",
        "# Split the data\n",
        "X_train, X_val, y_train, y_val = train_test_split(X, y, test_size=0.2, random_state=42)\n",
        "\n",
        "# Perform hyperparameter tuning using Grid Search\n",
        "grid_search = GridSearchCV(model, param_grid, cv=5, n_jobs=-1)\n",
        "grid_search.fit(X_train, y_train)\n",
        "\n",
        "# Get the best model and evaluate it\n",
        "best_model = grid_search.best_estimator_\n",
        "best_score = grid_search.best_score_\n",
        "\n",
        "val_score = best_model.score(X_val, y_val)\n",
        "\n",
        "\n",
        "print(f\"Best Model: {best_model}\")\n",
        "print(f\"Best Training Score: {best_score}\")\n",
        "print(f\"Validation Score: {val_score}\")"
      ],
      "metadata": {
        "colab": {
          "base_uri": "https://localhost:8080/"
        },
        "id": "mJIg2olB4iH_",
        "outputId": "9cded250-fe2a-4ae4-8333-67fd4cdeb69a"
      },
      "execution_count": 4,
      "outputs": [
        {
          "output_type": "stream",
          "name": "stdout",
          "text": [
            "Best Model: RandomForestClassifier(n_estimators=50)\n",
            "Best Training Score: 0.9583333333333334\n",
            "Validation Score: 1.0\n"
          ]
        }
      ]
    },
    {
      "cell_type": "code",
      "source": [
        "y_pred = best_model.predict(X_val)\n",
        "print(y_pred)\n",
        "print(y_val)"
      ],
      "metadata": {
        "colab": {
          "base_uri": "https://localhost:8080/"
        },
        "id": "Coz1yGpUesuC",
        "outputId": "d01bd08d-6909-4067-e82c-49bbe0c447a6"
      },
      "execution_count": 5,
      "outputs": [
        {
          "output_type": "stream",
          "name": "stdout",
          "text": [
            "[1 0 2 1 1 0 1 2 1 1 2 0 0 0 0 1 2 1 1 2 0 2 0 2 2 2 2 2 0 0]\n",
            "[1 0 2 1 1 0 1 2 1 1 2 0 0 0 0 1 2 1 1 2 0 2 0 2 2 2 2 2 0 0]\n"
          ]
        }
      ]
    },
    {
      "cell_type": "code",
      "source": [
        "from sklearn.model_selection import GridSearchCV\n",
        "from sklearn.ensemble import RandomForestClassifier\n",
        "\n",
        "# Define the hyperparameter grid\n",
        "param_grid = {\n",
        "    'n_estimators': [100, 200, 300],\n",
        "    'max_depth': [None, 10, 20, 30],\n",
        "    'min_samples_split': [2, 5, 10],\n",
        "    'min_samples_leaf': [1, 2, 4]\n",
        "}\n",
        "\n",
        "# Create the model\n",
        "rf = RandomForestClassifier()\n",
        "\n",
        "# Grid search with cross-validation\n",
        "grid_search = GridSearchCV(estimator=rf, param_grid=param_grid, scoring='accuracy', cv=5)\n",
        "grid_search.fit(X_train, y_train)\n",
        "\n",
        "# Get the best hyperparameters\n",
        "best_params = grid_search.best_params_\n",
        "best_model = grid_search.best_estimator_\n"
      ],
      "metadata": {
        "id": "32TUUxC3gwwX"
      },
      "execution_count": 6,
      "outputs": []
    },
    {
      "cell_type": "code",
      "source": [
        "from sklearn.model_selection import RandomizedSearchCV\n",
        "from scipy.stats import randint\n",
        "\n",
        "# Define the hyperparameter distribution\n",
        "param_dist = {\n",
        "    'n_estimators': randint(100, 500),\n",
        "    'max_depth': [None, 10, 20, 30],\n",
        "    'min_samples_split': randint(2, 20),\n",
        "    'min_samples_leaf': randint(1, 5)\n",
        "}\n",
        "\n",
        "# Create the model\n",
        "rf = RandomForestClassifier()\n",
        "\n",
        "# Randomized search with cross-validation\n",
        "random_search = RandomizedSearchCV(estimator=rf, param_distributions=param_dist, n_iter=100, scoring='accuracy', cv=5, n_jobs=-1)\n",
        "random_search.fit(X_train, y_train)\n",
        "\n",
        "# Get the best hyperparameters\n",
        "best_params = random_search.best_params_\n",
        "best_model = random_search.best_estimator_\n"
      ],
      "metadata": {
        "id": "Qu3KYAQgg5pm"
      },
      "execution_count": 7,
      "outputs": []
    },
    {
      "cell_type": "code",
      "source": [
        "from sklearn.model_selection import train_test_split\n",
        "\n",
        "# Split the data into training, validation, and test sets\n",
        "X_train, X_val, y_train, y_val = train_test_split(X, y, test_size=0.2, random_state=42)\n"
      ],
      "metadata": {
        "id": "EPdv1eBAHl1E"
      },
      "execution_count": 8,
      "outputs": []
    },
    {
      "cell_type": "code",
      "source": [
        "from sklearn.ensemble import RandomForestClassifier\n",
        "from sklearn.model_selection import GridSearchCV\n",
        "\n",
        "# Define a range of hyperparameters to tune\n",
        "param_grid = {\n",
        "    'n_estimators': [50, 100, 200],\n",
        "    'max_depth': [None, 10, 20],\n",
        "    'min_samples_split': [2, 5, 10]\n",
        "}\n"
      ],
      "metadata": {
        "id": "5_DEBGh2HrE1"
      },
      "execution_count": 9,
      "outputs": []
    },
    {
      "cell_type": "code",
      "source": [
        "# Create the base model\n",
        "rf_model = RandomForestClassifier(random_state=42)\n",
        "\n",
        "# Use GridSearchCV to perform hyperparameter tuning\n",
        "grid_search = GridSearchCV(estimator=rf_model, param_grid=param_grid, scoring='accuracy', cv=5)\n",
        "grid_search.fit(X_train, y_train)\n"
      ],
      "metadata": {
        "id": "P7JZVJBXIQlu"
      },
      "execution_count": null,
      "outputs": []
    },
    {
      "cell_type": "code",
      "source": [
        "best_params = grid_search.best_params_\n"
      ],
      "metadata": {
        "id": "IEsGF0EoIWBj"
      },
      "execution_count": null,
      "outputs": []
    },
    {
      "cell_type": "code",
      "source": [
        "best_rf_model = RandomForestClassifier(**best_params, random_state=42)\n",
        "best_rf_model.fit(X_train, y_train)\n",
        "val_accuracy = best_rf_model.score(X_val, y_val)\n"
      ],
      "metadata": {
        "id": "E7-K5984IcnD"
      },
      "execution_count": null,
      "outputs": []
    },
    {
      "cell_type": "code",
      "source": [
        "test_accuracy = best_rf_model.score(X_test, y_test)\n"
      ],
      "metadata": {
        "id": "xuTy36LjIfvU"
      },
      "execution_count": null,
      "outputs": []
    }
  ]
}